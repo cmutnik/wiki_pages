{
  "nbformat": 4,
  "nbformat_minor": 0,
  "metadata": {
    "colab": {
      "name": "NLP.ipynb",
      "provenance": [],
      "collapsed_sections": []
    },
    "kernelspec": {
      "name": "python3",
      "display_name": "Python 3"
    }
  },
  "cells": [
    {
      "cell_type": "markdown",
      "metadata": {
        "id": "lOYWM27188tl",
        "colab_type": "text"
      },
      "source": [
        "<!--- https://colab.research.google.com/drive/1SUeKnr9p5bkTR73SqWrhB-pBz-8lQ2P_#scrollTo=skGjXVsB8_O5 --->\n",
        "# **Natural Language Processing (NLP)**\n",
        "----\n",
        "----\n",
        "This page is dedicated to my experience in learning NLP.  First, I searched through form udemy classes.  Finally, I decided to go with [this](https://bah.udemy.com/course/natural-language-processing) introduction class.  The github for this class can be found [here.](https://github.com/bsacash/introduction-to-NLP)\n",
        "\n",
        "\n",
        "----\n",
        "## First Udemy Course\n",
        "In this course the instructor uses a Jupyter notebook to run python 2.7 code.  If you have a later version of python installed, you need to set up a virtual environment: \n",
        "```python3 -m venv <myenvname>```\n",
        "----\n",
        "### Things to Note\n",
        "- Tokenization\n",
        "- Tagging\n",
        "- Normalization\n",
        "- Chunking\n",
        "\n",
        "### NLP Based Projects\n",
        "- Sentiment Analysis\n",
        "- Text Classification\n",
        "- Term Frequency - Inverse Document Frequency\n",
        "\n",
        "\n",
        "----\n",
        "## Natural Language Toolkit [(NLTK)](http://www.nltk.org)\n",
        "This is the python package most used in NLP, so make sure its installed.\n",
        "\n",
        "----\n",
        "## Counting\n",
        "To start using nltk, we need data.  [Project Gutenberg](http://www.gutenberg.org/wiki/Main_Page) offers a lot of open source data, so lets pull from there.\n",
        "\n",
        "We are going to be using the book \"Moby Dick.\"  import nltk and load the info we want.\n",
        "```\n",
        "import nltk\n",
        "nltk.corpus.gutenberg.fileids()\n",
        "```\n",
        "If this throws the error ```Resource gutenberg not found,``` then you need to download the data.  Once the data is downloaded, it needs to be located in one of the directories nltk looks in (they are listed in the error message), or you have to source their location for nltk, every time you want to load them.\n",
        "\n",
        "So make sure its downloaded and nltk knows where you stored it.  Here is how you do that:\n",
        "```\n",
        "import nltk\n",
        "# download the data\n",
        "nltk.download('gutenberg')\n",
        "# tell nltk where to find it\n",
        "nltk.data.path.append(\"~/your/path/to/nltk_data\")\n",
        "```\n",
        "You also have the option of sourcing the nltk path in your '~/.bashrc' file:\n",
        "```\n",
        "# add this line to your .bashrc file\n",
        "export NLTK_DATA=\"your/path/to/nltk_data\"\n",
        "```\n",
        "Source your '.bashrc' file, to load the new path variable ```source ~/.bashrc```\n",
        "But now, every script has to start with the following two lines:\n",
        "```\n",
        "import nltk\n",
        "nltk.data.path\n",
        "```\n",
        "Rather than telling nltk where to find it every time, it is easier to just move the 'nltk_data' dir to one of the places already on the nltk path.  **This is the way I do it on my computer.** For this notebok, it is fine to just tell nltk where to look."
      ]
    },
    {
      "cell_type": "code",
      "metadata": {
        "id": "lScpFFjT88Zn",
        "colab_type": "code",
        "outputId": "6b02e233-c1b2-4cf5-e6bf-0242a6b59c52",
        "colab": {
          "base_uri": "https://localhost:8080/",
          "height": 357
        }
      },
      "source": [
        "import nltk\n",
        "nltk.download('gutenberg')\n",
        "nltk.data.path.append(\"/root/nltk_data\")\n",
        "nltk.corpus.gutenberg.fileids()"
      ],
      "execution_count": 12,
      "outputs": [
        {
          "output_type": "stream",
          "text": [
            "[nltk_data] Downloading package gutenberg to /root/nltk_data...\n",
            "[nltk_data]   Package gutenberg is already up-to-date!\n"
          ],
          "name": "stdout"
        },
        {
          "output_type": "execute_result",
          "data": {
            "text/plain": [
              "['austen-emma.txt',\n",
              " 'austen-persuasion.txt',\n",
              " 'austen-sense.txt',\n",
              " 'bible-kjv.txt',\n",
              " 'blake-poems.txt',\n",
              " 'bryant-stories.txt',\n",
              " 'burgess-busterbrown.txt',\n",
              " 'carroll-alice.txt',\n",
              " 'chesterton-ball.txt',\n",
              " 'chesterton-brown.txt',\n",
              " 'chesterton-thursday.txt',\n",
              " 'edgeworth-parents.txt',\n",
              " 'melville-moby_dick.txt',\n",
              " 'milton-paradise.txt',\n",
              " 'shakespeare-caesar.txt',\n",
              " 'shakespeare-hamlet.txt',\n",
              " 'shakespeare-macbeth.txt',\n",
              " 'whitman-leaves.txt']"
            ]
          },
          "metadata": {
            "tags": []
          },
          "execution_count": 12
        }
      ]
    },
    {
      "cell_type": "code",
      "metadata": {
        "id": "ri8zYJnb803m",
        "colab_type": "code",
        "outputId": "0dc7f6a5-b5f3-4892-ea89-7197373cab27",
        "colab": {
          "base_uri": "https://localhost:8080/",
          "height": 34
        }
      },
      "source": [
        "# Save moby dick text to a variable.\n",
        "md = nltk.corpus.gutenberg.words(\"melville-moby_dick.txt\")\n",
        "\n",
        "# save text as a list of sentences\n",
        "md_sents = nltk.corpus.gutenberg.sents(\"melville-moby_dick.txt\")\n",
        "\n",
        "# count the number of times a word appears in the book\n",
        "md.count(\"whale\")"
      ],
      "execution_count": 13,
      "outputs": [
        {
          "output_type": "execute_result",
          "data": {
            "text/plain": [
              "906"
            ]
          },
          "metadata": {
            "tags": []
          },
          "execution_count": 13
        }
      ]
    },
    {
      "cell_type": "markdown",
      "metadata": {
        "id": "J9gXbbvrok_e",
        "colab_type": "text"
      },
      "source": [
        "Check the set of words in the book (how many unique words used)."
      ]
    },
    {
      "cell_type": "code",
      "metadata": {
        "id": "YN1wUhHbnJ9Y",
        "colab_type": "code",
        "outputId": "4d224839-2fd9-4157-bb7c-095ed3cf850b",
        "colab": {
          "base_uri": "https://localhost:8080/",
          "height": 34
        }
      },
      "source": [
        "md_set = set(md)\n",
        "# check the length of this set\n",
        "len(md_set)"
      ],
      "execution_count": 14,
      "outputs": [
        {
          "output_type": "execute_result",
          "data": {
            "text/plain": [
              "19317"
            ]
          },
          "metadata": {
            "tags": []
          },
          "execution_count": 14
        }
      ]
    },
    {
      "cell_type": "code",
      "metadata": {
        "id": "iSqWYKbanM4u",
        "colab_type": "code",
        "outputId": "3b0dd84a-1893-48e0-c99c-f93ae2dedc2e",
        "colab": {
          "base_uri": "https://localhost:8080/",
          "height": 34
        }
      },
      "source": [
        "len(md)/len(md_set)"
      ],
      "execution_count": 15,
      "outputs": [
        {
          "output_type": "execute_result",
          "data": {
            "text/plain": [
              "13.502044830977896"
            ]
          },
          "metadata": {
            "tags": []
          },
          "execution_count": 15
        }
      ]
    },
    {
      "cell_type": "markdown",
      "metadata": {
        "id": "7iBg7YdZm1MH",
        "colab_type": "text"
      },
      "source": [
        "### Assignment\n",
        "Load in inaugural speech collecting from nltk and calculate the average number of words per sentence, in each speech:"
      ]
    },
    {
      "cell_type": "code",
      "metadata": {
        "id": "tdk1TOqYm_fo",
        "colab_type": "code",
        "outputId": "70ac9661-b311-4a51-e7f8-b1bb9b2cb06d",
        "colab": {
          "base_uri": "https://localhost:8080/",
          "height": 102
        }
      },
      "source": [
        "import nltk\n",
        "# download the speech data and show nltk where to look\n",
        "nltk.download('inaugural')\n",
        "nltk.data.path.append(\"/root/nltk_data\")\n",
        "# also get tokenzer, if needed\n",
        "nltk.download('punkt')"
      ],
      "execution_count": 16,
      "outputs": [
        {
          "output_type": "stream",
          "text": [
            "[nltk_data] Downloading package inaugural to /root/nltk_data...\n",
            "[nltk_data]   Package inaugural is already up-to-date!\n",
            "[nltk_data] Downloading package punkt to /root/nltk_data...\n",
            "[nltk_data]   Package punkt is already up-to-date!\n"
          ],
          "name": "stdout"
        },
        {
          "output_type": "execute_result",
          "data": {
            "text/plain": [
              "True"
            ]
          },
          "metadata": {
            "tags": []
          },
          "execution_count": 16
        }
      ]
    },
    {
      "cell_type": "code",
      "metadata": {
        "id": "8PZPDVM4pgwK",
        "colab_type": "code",
        "outputId": "48730fb9-b97e-446b-bc6d-a083b9380e72",
        "colab": {
          "base_uri": "https://localhost:8080/",
          "height": 34
        }
      },
      "source": [
        "from nltk.corpus import inaugural\n",
        "import numpy as np\n",
        "\n",
        "# look at the inaugural data set\n",
        "_ids = inaugural.fileids()\n",
        "len(_ids)#>> 58\n",
        "\n",
        "# loop through all the inaugural options and calculate avg words per sentence\n",
        "#wcount, scount = [], []\n",
        "words_per_sent = []\n",
        "for i in range(len(_ids)):\n",
        "    wcount = len( inaugural.words(_ids[i]) )\n",
        "    scount = len( inaugural.sents(_ids[i]) )\n",
        "    words_per_sent.append(wcount / scount)\n",
        "\n",
        "len(words_per_sent)#>> 58\n",
        "np.mean(words_per_sent)"
      ],
      "execution_count": 17,
      "outputs": [
        {
          "output_type": "execute_result",
          "data": {
            "text/plain": [
              "32.47640597899212"
            ]
          },
          "metadata": {
            "tags": []
          },
          "execution_count": 17
        }
      ]
    },
    {
      "cell_type": "markdown",
      "metadata": {
        "id": "9D97CiEJn2c_",
        "colab_type": "text"
      },
      "source": [
        "Take this further and plot the number of words per sentence in each speech, by year:"
      ]
    },
    {
      "cell_type": "code",
      "metadata": {
        "id": "VNuXIJ2un1Ck",
        "colab_type": "code",
        "outputId": "00d53195-6e1e-4c52-f826-067e8aa7a078",
        "colab": {
          "base_uri": "https://localhost:8080/",
          "height": 295
        }
      },
      "source": [
        "import matplotlib.pyplot as plt\n",
        "\n",
        "# get the year each speech was given, from their titles\n",
        "year_vals = [_ids[i][:4] for i in range(len(_ids))]\n",
        "\n",
        "plt.plot(year_vals, words_per_sent)\n",
        "plt.xlabel('Year')\n",
        "plt.ylabel('Words per Sentence')\n",
        "plt.title('NLTK Inaugural Speeches')\n",
        "plt.show()"
      ],
      "execution_count": 18,
      "outputs": [
        {
          "output_type": "display_data",
          "data": {
            "image/png": "[encoded data removed]",
            "text/plain": [
              "<Figure size 432x288 with 1 Axes>"
            ]
          },
          "metadata": {
            "tags": [],
            "needs_background": "light"
          }
        }
      ]
    },
    {
      "cell_type": "markdown",
      "metadata": {
        "id": "BLuanusSoNlK",
        "colab_type": "text"
      },
      "source": [
        "The year data looks terrible, so fix it up:"
      ]
    },
    {
      "cell_type": "markdown",
      "metadata": {
        "id": "avJLNQiFm05N",
        "colab_type": "text"
      },
      "source": [
        ""
      ]
    },
    {
      "cell_type": "code",
      "metadata": {
        "id": "91ZmTXdYuuHN",
        "colab_type": "code",
        "outputId": "fc940f62-90bf-4242-d597-d3f51f1d4bf2",
        "colab": {
          "base_uri": "https://localhost:8080/",
          "height": 295
        }
      },
      "source": [
        "fig, ax = plt.subplots()\n",
        "plt.plot(year_vals, words_per_sent)\n",
        "plt.xlabel('Year')\n",
        "plt.ylabel('Words per Sentence')\n",
        "plt.title('NLTK Inaugural Speeches')\n",
        "ax.xaxis.set_major_locator(plt.MaxNLocator(10))\n",
        "plt.show()"
      ],
      "execution_count": 19,
      "outputs": [
        {
          "output_type": "display_data",
          "data": {
            "image/png": "[encoded data removed]",
            "text/plain": [
              "<Figure size 432x288 with 1 Axes>"
            ]
          },
          "metadata": {
            "tags": [],
            "needs_background": "light"
          }
        }
      ]
    },
    {
      "cell_type": "markdown",
      "metadata": {
        "id": "6UrZLtjawms2",
        "colab_type": "text"
      },
      "source": [
        "----\n",
        "## Frequency Distributions\n",
        "Count the number of times a word is used in the document."
      ]
    },
    {
      "cell_type": "code",
      "metadata": {
        "id": "L5wcRG36uuV-",
        "colab_type": "code",
        "outputId": "0ee69628-cf8a-43a6-f405-52d98611f255",
        "colab": {
          "base_uri": "https://localhost:8080/",
          "height": 51
        }
      },
      "source": [
        "import nltk\n",
        "nltk.download('gutenberg')\n",
        "alice = nltk.corpus.gutenberg.words('carroll-alice.txt')\n",
        "alice_fd = nltk.FreqDist(alice)\n",
        "#alice_fd"
      ],
      "execution_count": 20,
      "outputs": [
        {
          "output_type": "stream",
          "text": [
            "[nltk_data] Downloading package gutenberg to /root/nltk_data...\n",
            "[nltk_data]   Package gutenberg is already up-to-date!\n"
          ],
          "name": "stdout"
        }
      ]
    },
    {
      "cell_type": "markdown",
      "metadata": {
        "id": "qkaCMcNyxVYb",
        "colab_type": "text"
      },
      "source": [
        "This is structured like a dictionary.  So you can look up different words:\n",
        "```\n",
        "alice_fd['Rabbit']\n",
        "#>> 45\n",
        "```\n",
        "Check 15 most commonly used words:\n",
        "```\n",
        "alice_fd.most_common(15)\n",
        "```\n",
        "Check out the words that were used only once (Hapax legomenon):"
      ]
    },
    {
      "cell_type": "code",
      "metadata": {
        "id": "iJHxEuVNvSWI",
        "colab_type": "code",
        "colab": {}
      },
      "source": [
        "#alice_fd.hapaxes()"
      ],
      "execution_count": 0,
      "outputs": []
    },
    {
      "cell_type": "markdown",
      "metadata": {
        "id": "T7fHE6eeyJwi",
        "colab_type": "text"
      },
      "source": [
        "## Conditional Frequency Distributions\n",
        "Use a list of tuples with group-letter and a name:"
      ]
    },
    {
      "cell_type": "code",
      "metadata": {
        "id": "z5iMSjK1xfHR",
        "colab_type": "code",
        "colab": {}
      },
      "source": [
        "import nltk\n",
        "names = [(\"Group A\", \"Paul\"), (\"Group A\", \"Mike\"), (\"Group A\", \"Katy\"), (\"Group B\", \"Amy\"), (\"Group B\", \"Joe\"), (\"Group B\", \"Amy\")]"
      ],
      "execution_count": 0,
      "outputs": []
    },
    {
      "cell_type": "markdown",
      "metadata": {
        "id": "pevsOH1nyO4j",
        "colab_type": "text"
      },
      "source": [
        "Run normal frequency distribution on the list:"
      ]
    },
    {
      "cell_type": "code",
      "metadata": {
        "id": "ai0nkDy6yKMC",
        "colab_type": "code",
        "outputId": "c5920779-375d-441f-c589-92458e262847",
        "colab": {
          "base_uri": "https://localhost:8080/",
          "height": 102
        }
      },
      "source": [
        "nltk.FreqDist(names)"
      ],
      "execution_count": 23,
      "outputs": [
        {
          "output_type": "execute_result",
          "data": {
            "text/plain": [
              "FreqDist({('Group A', 'Katy'): 1,\n",
              "          ('Group A', 'Mike'): 1,\n",
              "          ('Group A', 'Paul'): 1,\n",
              "          ('Group B', 'Amy'): 2,\n",
              "          ('Group B', 'Joe'): 1})"
            ]
          },
          "metadata": {
            "tags": []
          },
          "execution_count": 23
        }
      ]
    },
    {
      "cell_type": "markdown",
      "metadata": {
        "id": "rFdvc5PJyooM",
        "colab_type": "text"
      },
      "source": [
        "Try conditional frequency distribution, with each name as a condition.  This counts how many times we saw each name in each group."
      ]
    },
    {
      "cell_type": "code",
      "metadata": {
        "id": "ST-zDDLryMQx",
        "colab_type": "code",
        "outputId": "1a5850ef-3054-4490-d71a-78893afdc079",
        "colab": {
          "base_uri": "https://localhost:8080/",
          "height": 68
        }
      },
      "source": [
        "nltk.ConditionalFreqDist(names)"
      ],
      "execution_count": 24,
      "outputs": [
        {
          "output_type": "execute_result",
          "data": {
            "text/plain": [
              "ConditionalFreqDist(nltk.probability.FreqDist,\n",
              "                    {'Group A': FreqDist({'Katy': 1, 'Mike': 1, 'Paul': 1}),\n",
              "                     'Group B': FreqDist({'Amy': 2, 'Joe': 1})})"
            ]
          },
          "metadata": {
            "tags": []
          },
          "execution_count": 24
        }
      ]
    },
    {
      "cell_type": "markdown",
      "metadata": {
        "id": "1Hqf-T2JzL_Q",
        "colab_type": "text"
      },
      "source": [
        "----\n",
        "## Checking Informative Words\n",
        "First check the frequency distribution and check the 100 most common words."
      ]
    },
    {
      "cell_type": "code",
      "metadata": {
        "id": "sIdZCCeVzdWV",
        "colab_type": "code",
        "colab": {}
      },
      "source": [
        "import nltk\n",
        "alice = nltk.corpus.gutenberg.words('carroll-alice.txt')\n",
        "alice_fd = nltk.FreqDist(alice)\n",
        "# call back 100 most common words\n",
        "alice_fd_100 = alice_fd.most_common(100)"
      ],
      "execution_count": 0,
      "outputs": []
    },
    {
      "cell_type": "markdown",
      "metadata": {
        "id": "e3n5TTDOzcw8",
        "colab_type": "text"
      },
      "source": [
        "Do the same from another book. Try using Moby Dick."
      ]
    },
    {
      "cell_type": "code",
      "metadata": {
        "id": "Jy8gv2BiyuA0",
        "colab_type": "code",
        "colab": {}
      },
      "source": [
        "md = nltk.corpus.gutenberg.words(\"melville-moby_dick.txt\")\n",
        "md_fd = nltk.FreqDist(md)\n",
        "md_fd_100 = md_fd.most_common(100)\n",
        "#md_fd_100"
      ],
      "execution_count": 0,
      "outputs": []
    },
    {
      "cell_type": "markdown",
      "metadata": {
        "id": "xDRU_7M1z26u",
        "colab_type": "text"
      },
      "source": [
        "Drop the second column in each tuple (the numbers), to just save the words to a list."
      ]
    },
    {
      "cell_type": "code",
      "metadata": {
        "id": "MWKDoIfoz3N1",
        "colab_type": "code",
        "colab": {}
      },
      "source": [
        "alice_100 = [word[0] for word in alice_fd_100]\n",
        "md_100 = [word[0] for word in md_fd_100]"
      ],
      "execution_count": 0,
      "outputs": []
    },
    {
      "cell_type": "markdown",
      "metadata": {
        "id": "_5tR-tKXz3aM",
        "colab_type": "text"
      },
      "source": [
        "Subtracting words common to both leaves only words common to Alice in Wonderland.  The operation supports subtracting them as sets.\n"
      ]
    },
    {
      "cell_type": "code",
      "metadata": {
        "id": "i4LtEZ6Rz35Z",
        "colab_type": "code",
        "outputId": "0d7f6ada-6624-4824-d67b-01d2a1e0d6d7",
        "colab": {
          "base_uri": "https://localhost:8080/",
          "height": 629
        }
      },
      "source": [
        "set(alice_100) - set(md_100)"
      ],
      "execution_count": 28,
      "outputs": [
        {
          "output_type": "execute_result",
          "data": {
            "text/plain": [
              "{\"!'\",\n",
              " '*',\n",
              " \",'\",\n",
              " \".'\",\n",
              " ':',\n",
              " \"?'\",\n",
              " 'Alice',\n",
              " 'Gryphon',\n",
              " 'Hatter',\n",
              " 'King',\n",
              " 'Mock',\n",
              " 'Queen',\n",
              " 'Turtle',\n",
              " 'again',\n",
              " 'began',\n",
              " 'can',\n",
              " 'could',\n",
              " 'did',\n",
              " 'do',\n",
              " 'herself',\n",
              " 'know',\n",
              " 'little',\n",
              " 'll',\n",
              " 'm',\n",
              " 'much',\n",
              " 'off',\n",
              " 'quite',\n",
              " 'said',\n",
              " 'say',\n",
              " 'see',\n",
              " 'she',\n",
              " 't',\n",
              " 'thought',\n",
              " 'way',\n",
              " 'went',\n",
              " 'your'}"
            ]
          },
          "metadata": {
            "tags": []
          },
          "execution_count": 28
        }
      ]
    },
    {
      "cell_type": "markdown",
      "metadata": {
        "id": "QglZfN2q085E",
        "colab_type": "text"
      },
      "source": [
        "Check the words most common and unique to Moby Dick."
      ]
    },
    {
      "cell_type": "code",
      "metadata": {
        "id": "3rB85pm11M9N",
        "colab_type": "code",
        "outputId": "6d8b9221-97eb-4e80-fdda-852ddef9461c",
        "colab": {
          "base_uri": "https://localhost:8080/",
          "height": 629
        }
      },
      "source": [
        "set(md_100) - set(alice_100)"
      ],
      "execution_count": 29,
      "outputs": [
        {
          "output_type": "execute_result",
          "data": {
            "text/plain": [
              "{'!\"',\n",
              " '\"',\n",
              " '.\"',\n",
              " '?',\n",
              " 'Ahab',\n",
              " 'But',\n",
              " 'any',\n",
              " 'are',\n",
              " 'been',\n",
              " 'boat',\n",
              " 'from',\n",
              " 'head',\n",
              " 'him',\n",
              " 'long',\n",
              " 'man',\n",
              " 'more',\n",
              " 'now',\n",
              " 'old',\n",
              " 'only',\n",
              " 'other',\n",
              " 'over',\n",
              " 'sea',\n",
              " 'ship',\n",
              " 'some',\n",
              " 'such',\n",
              " 'than',\n",
              " 'their',\n",
              " 'these',\n",
              " 'though',\n",
              " 'upon',\n",
              " 'we',\n",
              " 'whale',\n",
              " 'which',\n",
              " 'who',\n",
              " 'will',\n",
              " 'ye'}"
            ]
          },
          "metadata": {
            "tags": []
          },
          "execution_count": 29
        }
      ]
    },
    {
      "cell_type": "markdown",
      "metadata": {
        "id": "MFr4wlK11YgO",
        "colab_type": "text"
      },
      "source": [
        "----\n",
        "## Bigrams\n",
        "Bigrams are a way of looking at word sequences.  They allow us to look at words that appear next to each other."
      ]
    },
    {
      "cell_type": "code",
      "metadata": {
        "id": "vZJ2Q3eh1PR-",
        "colab_type": "code",
        "outputId": "e167bba0-cc5f-4cf1-bdb5-78ea040440c9",
        "colab": {
          "base_uri": "https://localhost:8080/",
          "height": 34
        }
      },
      "source": [
        "import nltk\n",
        "text = \"I think it might rain today.\"\n",
        "tokens = nltk.word_tokenize(text)\n",
        "tokens"
      ],
      "execution_count": 30,
      "outputs": [
        {
          "output_type": "execute_result",
          "data": {
            "text/plain": [
              "['I', 'think', 'it', 'might', 'rain', 'today', '.']"
            ]
          },
          "metadata": {
            "tags": []
          },
          "execution_count": 30
        }
      ]
    },
    {
      "cell_type": "markdown",
      "metadata": {
        "id": "WGf5IAMK21xo",
        "colab_type": "text"
      },
      "source": [
        "Find the bigrams for this phrase."
      ]
    },
    {
      "cell_type": "code",
      "metadata": {
        "id": "VfHeIRbX21M1",
        "colab_type": "code",
        "outputId": "3d1d26b3-7821-422b-f2b9-81ea4b814a27",
        "colab": {
          "base_uri": "https://localhost:8080/",
          "height": 119
        }
      },
      "source": [
        "bigrams = nltk.bigrams(tokens)\n",
        "for item in bigrams:\n",
        "    print(item)"
      ],
      "execution_count": 31,
      "outputs": [
        {
          "output_type": "stream",
          "text": [
            "('I', 'think')\n",
            "('think', 'it')\n",
            "('it', 'might')\n",
            "('might', 'rain')\n",
            "('rain', 'today')\n",
            "('today', '.')\n"
          ],
          "name": "stdout"
        }
      ]
    },
    {
      "cell_type": "markdown",
      "metadata": {
        "id": "5WxxfonU3McW",
        "colab_type": "text"
      },
      "source": [
        "Do the same for trigrams."
      ]
    },
    {
      "cell_type": "code",
      "metadata": {
        "id": "aqE9QBdI3L3E",
        "colab_type": "code",
        "outputId": "3f17b9e4-4d30-4864-d4f3-b96fdb7c4a04",
        "colab": {
          "base_uri": "https://localhost:8080/",
          "height": 102
        }
      },
      "source": [
        "trigrams = nltk.trigrams(tokens)\n",
        "for item in trigrams:\n",
        "  print(item)"
      ],
      "execution_count": 32,
      "outputs": [
        {
          "output_type": "stream",
          "text": [
            "('I', 'think', 'it')\n",
            "('think', 'it', 'might')\n",
            "('it', 'might', 'rain')\n",
            "('might', 'rain', 'today')\n",
            "('rain', 'today', '.')\n"
          ],
          "name": "stdout"
        }
      ]
    },
    {
      "cell_type": "markdown",
      "metadata": {
        "id": "H-qduiap3S4i",
        "colab_type": "text"
      },
      "source": [
        "Do the same for an N-gram:"
      ]
    },
    {
      "cell_type": "code",
      "metadata": {
        "id": "GOTWegH235Kx",
        "colab_type": "code",
        "outputId": "51932150-bdfc-4250-a3f7-63d307206238",
        "colab": {
          "base_uri": "https://localhost:8080/",
          "height": 187
        }
      },
      "source": [
        "from nltk.util import ngrams\n",
        "text2 = \"If it is nice out, I will go to the beach.\"\n",
        "tokens = nltk.word_tokenize(text2)\n",
        "ngrams_text2 = ngrams(tokens, 4)# the number '2' lets you find the same result as bigrams\n",
        "for item in ngrams_text2:\n",
        "    print(item)"
      ],
      "execution_count": 33,
      "outputs": [
        {
          "output_type": "stream",
          "text": [
            "('If', 'it', 'is', 'nice')\n",
            "('it', 'is', 'nice', 'out')\n",
            "('is', 'nice', 'out', ',')\n",
            "('nice', 'out', ',', 'I')\n",
            "('out', ',', 'I', 'will')\n",
            "(',', 'I', 'will', 'go')\n",
            "('I', 'will', 'go', 'to')\n",
            "('will', 'go', 'to', 'the')\n",
            "('go', 'to', 'the', 'beach')\n",
            "('to', 'the', 'beach', '.')\n"
          ],
          "name": "stdout"
        }
      ]
    },
    {
      "cell_type": "markdown",
      "metadata": {
        "id": "EdrhkCEH4q6g",
        "colab_type": "text"
      },
      "source": [
        "Write this as a function, to make calling it frequently easier.\n"
      ]
    },
    {
      "cell_type": "code",
      "metadata": {
        "id": "lhFKNenY4GLN",
        "colab_type": "code",
        "colab": {}
      },
      "source": [
        "def n_grams(text, n):\n",
        "  tokens = nltk.word_tokenize(text)\n",
        "  grams = ngrams(tokens, n)\n",
        "  return grams"
      ],
      "execution_count": 0,
      "outputs": []
    },
    {
      "cell_type": "markdown",
      "metadata": {
        "id": "oY9lQaJA5asF",
        "colab_type": "text"
      },
      "source": [
        "Check any n gram whenever needed."
      ]
    },
    {
      "cell_type": "code",
      "metadata": {
        "id": "93B5XLok5MVL",
        "colab_type": "code",
        "outputId": "f7ad9fcb-e4cc-464d-c8b7-468cfc385631",
        "colab": {
          "base_uri": "https://localhost:8080/",
          "height": 34
        }
      },
      "source": [
        "text3 = text + \" \" + text2\n",
        "text3"
      ],
      "execution_count": 35,
      "outputs": [
        {
          "output_type": "execute_result",
          "data": {
            "text/plain": [
              "'I think it might rain today. If it is nice out, I will go to the beach.'"
            ]
          },
          "metadata": {
            "tags": []
          },
          "execution_count": 35
        }
      ]
    },
    {
      "cell_type": "code",
      "metadata": {
        "id": "EVC3prFc5ZJL",
        "colab_type": "code",
        "outputId": "53451d01-dd64-4b1c-ca7f-d5a78cdcaaca",
        "colab": {
          "base_uri": "https://localhost:8080/",
          "height": 289
        }
      },
      "source": [
        "grams = n_grams(text3, 5)\n",
        "for item in grams:\n",
        "  print(item)"
      ],
      "execution_count": 36,
      "outputs": [
        {
          "output_type": "stream",
          "text": [
            "('I', 'think', 'it', 'might', 'rain')\n",
            "('think', 'it', 'might', 'rain', 'today')\n",
            "('it', 'might', 'rain', 'today', '.')\n",
            "('might', 'rain', 'today', '.', 'If')\n",
            "('rain', 'today', '.', 'If', 'it')\n",
            "('today', '.', 'If', 'it', 'is')\n",
            "('.', 'If', 'it', 'is', 'nice')\n",
            "('If', 'it', 'is', 'nice', 'out')\n",
            "('it', 'is', 'nice', 'out', ',')\n",
            "('is', 'nice', 'out', ',', 'I')\n",
            "('nice', 'out', ',', 'I', 'will')\n",
            "('out', ',', 'I', 'will', 'go')\n",
            "(',', 'I', 'will', 'go', 'to')\n",
            "('I', 'will', 'go', 'to', 'the')\n",
            "('will', 'go', 'to', 'the', 'beach')\n",
            "('go', 'to', 'the', 'beach', '.')\n"
          ],
          "name": "stdout"
        }
      ]
    },
    {
      "cell_type": "markdown",
      "metadata": {
        "id": "LozXsP6s6Cal",
        "colab_type": "text"
      },
      "source": [
        "----\n",
        "## Regular Expressions (RegEx)\n",
        "Regular expressions are useful for detecting specific text patterns.\n",
        "\n",
        "A Regular Expression Meta-character Table:\n",
        "\n",
        "| Expression Meta-character | Use   |\n",
        "|------|------|\n",
        "|   ^  | Start of string| \n",
        "|   $  | End of string| \n",
        "|   .  | Wild card character (any character)| \n",
        "|   [chr]  | Matches one of the characters| \n",
        "|   [a-m]  | Matches one character in the range| \n",
        "|   ?  | The previous character occurs 0 or 1 times| \n",
        "|   *  | The previous character occurs 0 or more times| \n",
        "|   +  | The previous character occurs 1 or more times| \n",
        "|   a\\|e  | Matches one or the other| \n",
        "|   ()  | Parenthesis for grouping expressions| \n",
        "|   \\  | Escape character| \n",
        "\n",
        "To find all 3 letter words in a document, use: ```^...$```\n",
        "\n",
        "Three letter words starting with c: ```^c..$```\n",
        "\n",
        "All words beginning with c (if we dont know length): ```^c```\n",
        "\n",
        "Words of any length that end in ing: ```ing$```\n",
        "\n",
        "Words that start differently but end the same.  Ex of cat, hat, rat: ```^[chr]..$```\n",
        "\n",
        "An email address ending in .com: ```^.+@.+\\.com$```\n",
        "\n",
        "## Practice:"
      ]
    },
    {
      "cell_type": "code",
      "metadata": {
        "id": "QWxe9ltN5sBK",
        "colab_type": "code",
        "colab": {}
      },
      "source": [
        "import nltk\n",
        "import re\n",
        "alice = nltk.corpus.gutenberg.words('carroll-alice.txt')"
      ],
      "execution_count": 0,
      "outputs": []
    },
    {
      "cell_type": "code",
      "metadata": {
        "id": "wADlbaTy_0it",
        "colab_type": "code",
        "outputId": "82c35cd0-a3e9-4d75-850f-847f6c9cc9c8",
        "colab": {
          "base_uri": "https://localhost:8080/",
          "height": 34
        }
      },
      "source": [
        "set([word for word in alice if re.search(\"^new\", word)])"
      ],
      "execution_count": 38,
      "outputs": [
        {
          "output_type": "execute_result",
          "data": {
            "text/plain": [
              "{'new', 'newspapers'}"
            ]
          },
          "metadata": {
            "tags": []
          },
          "execution_count": 38
        }
      ]
    },
    {
      "cell_type": "markdown",
      "metadata": {
        "id": "BTwPsa_xAbvr",
        "colab_type": "text"
      },
      "source": [
        "Find all words used that end in \"ful\""
      ]
    },
    {
      "cell_type": "code",
      "metadata": {
        "id": "G7NUVraSAPoD",
        "colab_type": "code",
        "outputId": "0dc03766-7188-44d4-bb08-b501def05e3f",
        "colab": {
          "base_uri": "https://localhost:8080/",
          "height": 272
        }
      },
      "source": [
        "set([word for word in alice if re.search(\"ful$\", word)])"
      ],
      "execution_count": 39,
      "outputs": [
        {
          "output_type": "execute_result",
          "data": {
            "text/plain": [
              "{'Beautiful',\n",
              " 'barrowful',\n",
              " 'beautiful',\n",
              " 'delightful',\n",
              " 'doubtful',\n",
              " 'dreadful',\n",
              " 'graceful',\n",
              " 'hopeful',\n",
              " 'mournful',\n",
              " 'ootiful',\n",
              " 'respectful',\n",
              " 'sorrowful',\n",
              " 'truthful',\n",
              " 'useful',\n",
              " 'wonderful'}"
            ]
          },
          "metadata": {
            "tags": []
          },
          "execution_count": 39
        }
      ]
    },
    {
      "cell_type": "markdown",
      "metadata": {
        "id": "Zic0Uc5yAkCq",
        "colab_type": "text"
      },
      "source": [
        "Find patterns in the middle of words.  Find all words that are 6 characters long and have \"nn\" in the middle."
      ]
    },
    {
      "cell_type": "code",
      "metadata": {
        "id": "jlH_18q7Aj0i",
        "colab_type": "code",
        "outputId": "62dacf45-58bb-4938-88dc-739ea7b78f08",
        "colab": {
          "base_uri": "https://localhost:8080/",
          "height": 34
        }
      },
      "source": [
        "set([word for word in alice if re.search(\"^..nn..$\", word)])"
      ],
      "execution_count": 40,
      "outputs": [
        {
          "output_type": "execute_result",
          "data": {
            "text/plain": [
              "{'cannot', 'dinner', 'fanned', 'manner', 'tunnel'}"
            ]
          },
          "metadata": {
            "tags": []
          },
          "execution_count": 40
        }
      ]
    },
    {
      "cell_type": "markdown",
      "metadata": {
        "id": "KUlrfiAmBgOj",
        "colab_type": "text"
      },
      "source": [
        "All words that have \"nn\" regardless of length:"
      ]
    },
    {
      "cell_type": "code",
      "metadata": {
        "id": "i-TZ_JACAbF0",
        "colab_type": "code",
        "outputId": "8ec9e3c5-23c7-4da3-be45-21621a1d3a8e",
        "colab": {
          "base_uri": "https://localhost:8080/",
          "height": 357
        }
      },
      "source": [
        "set([word for word in alice if re.search(\"^.*nn\", word)])\n",
        "#==set([word for word in alice if re.search(\"^.*nn.*$\", word)])\n"
      ],
      "execution_count": 41,
      "outputs": [
        {
          "output_type": "execute_result",
          "data": {
            "text/plain": [
              "{'Ann',\n",
              " 'Dinn',\n",
              " 'Pennyworth',\n",
              " 'annoy',\n",
              " 'annoyed',\n",
              " 'beginning',\n",
              " 'cannot',\n",
              " 'cunning',\n",
              " 'dinn',\n",
              " 'dinner',\n",
              " 'fanned',\n",
              " 'fanning',\n",
              " 'funny',\n",
              " 'grinned',\n",
              " 'grinning',\n",
              " 'manner',\n",
              " 'manners',\n",
              " 'planning',\n",
              " 'running',\n",
              " 'tunnel'}"
            ]
          },
          "metadata": {
            "tags": []
          },
          "execution_count": 41
        }
      ]
    },
    {
      "cell_type": "markdown",
      "metadata": {
        "id": "zk-9lszdB_VY",
        "colab_type": "text"
      },
      "source": [
        "All words that start with a vowel, the second letter in \"c\", and they end in \"y\":"
      ]
    },
    {
      "cell_type": "code",
      "metadata": {
        "id": "uqvThAeOBhgB",
        "colab_type": "code",
        "outputId": "d48ab43b-c812-44bd-ea4a-325807655bea",
        "colab": {
          "base_uri": "https://localhost:8080/",
          "height": 34
        }
      },
      "source": [
        "set([word for word in alice if re.search(\"^[aeiou]c.*y$\", word)])\n",
        "#==set([word for word in alice if re.search(\"^[aeiou]c.+y$\", word)])"
      ],
      "execution_count": 42,
      "outputs": [
        {
          "output_type": "execute_result",
          "data": {
            "text/plain": [
              "{'accidentally', 'actually', 'occasionally'}"
            ]
          },
          "metadata": {
            "tags": []
          },
          "execution_count": 42
        }
      ]
    },
    {
      "cell_type": "markdown",
      "metadata": {
        "id": "CFotVCVOIzJ_",
        "colab_type": "text"
      },
      "source": [
        "\n",
        "----\n",
        "## Normalizing\n",
        "Cleaning text data, to make it more uniform.  Start by removing any non-word items. The function 'islapha' returns words made of letters, not numbers or symbols.\n",
        "```\n",
        "import nltk\n",
        "md = nltk.corpus.gutenberg.words(\"melville-moby_dick.txt\")\n",
        "\n",
        "# look at first 22 'words'\n",
        "md22 = md[:22]\n",
        "for word in md22:\n",
        "    if word.isalpha():\n",
        "        print(word)\n",
        "```\n",
        "We can mak all our text the first case.\n",
        "```\n",
        "for word in md22:\n",
        "    print(word.lower())\n",
        "```\n",
        "To save both of these methods together, for further normalization:\n",
        "```\n",
        "norm = [word.lower() for word in md22 if word.isalpha()]\n",
        "```\n",
        "Use stemmers to return words that pluralized.  Stemming in not an exact science, trial and error will be needed.  \n"
      ]
    },
    {
      "cell_type": "code",
      "metadata": {
        "id": "Iq2vYhHiCBXn",
        "colab_type": "code",
        "outputId": "67429949-9f18-469c-84e9-e6c1a267ecce",
        "colab": {
          "base_uri": "https://localhost:8080/",
          "height": 221
        }
      },
      "source": [
        "my_list = [\"cat\", \"cats\", \"city\", \"cities\", \"month\", \"monthly\", \"woman\", \"women\", \"run\", \"running\", \"lie\", \"lying\"]\n",
        "porter = nltk.PorterStemmer()\n",
        "for word in my_list:\n",
        "    print(porter.stem(word))"
      ],
      "execution_count": 43,
      "outputs": [
        {
          "output_type": "stream",
          "text": [
            "cat\n",
            "cat\n",
            "citi\n",
            "citi\n",
            "month\n",
            "monthli\n",
            "woman\n",
            "women\n",
            "run\n",
            "run\n",
            "lie\n",
            "lie\n"
          ],
          "name": "stdout"
        }
      ]
    },
    {
      "cell_type": "markdown",
      "metadata": {
        "id": "OG7t1JaSLKfc",
        "colab_type": "text"
      },
      "source": [
        "This one failed for some words.  Lets try a different stemmer.  Use the Lancaster Stemmer:"
      ]
    },
    {
      "cell_type": "code",
      "metadata": {
        "id": "2ngrXv4sIn0o",
        "colab_type": "code",
        "outputId": "92971ea7-e1f9-4975-be15-56118759a90a",
        "colab": {
          "base_uri": "https://localhost:8080/",
          "height": 221
        }
      },
      "source": [
        "lancaster = nltk.LancasterStemmer()\n",
        "for word in my_list:\n",
        "    print(lancaster.stem(word))"
      ],
      "execution_count": 44,
      "outputs": [
        {
          "output_type": "stream",
          "text": [
            "cat\n",
            "cat\n",
            "city\n",
            "city\n",
            "mon\n",
            "month\n",
            "wom\n",
            "wom\n",
            "run\n",
            "run\n",
            "lie\n",
            "lying\n"
          ],
          "name": "stdout"
        }
      ]
    },
    {
      "cell_type": "markdown",
      "metadata": {
        "id": "tpe7nKWRL1vY",
        "colab_type": "text"
      },
      "source": [
        "Try using the wordnet resource provided by nltk.  This method is more computationally intensive, so its not always the best way.\n",
        "```\n",
        "wnlem = nltk.WordNetLemmatizer()\n",
        "for word in my_list:\n",
        "    print(wnlem.lemmatize(word))\n",
        "```"
      ]
    },
    {
      "cell_type": "markdown",
      "metadata": {
        "id": "Erj29-lLNNBy",
        "colab_type": "text"
      },
      "source": [
        "----\n",
        "## Part of Speech Tagging\n",
        "Identify the part of speech for a sequence of words\n",
        "```\n",
        "text = \"I walk to the cafe to buy coffee before work.\"\n",
        "tokens = nltk.word_tokenize(text)\n",
        "```\n",
        "Find the parts of speech:\n",
        "```\n",
        "nltk.pos_tag(tokens)\n",
        "```\n",
        "To understand what these tags mean:\n",
        "```\n",
        "nltk.help.upenn_tagset()\n",
        "```\n",
        "Use Moby Dick and see what the most common nouns are.\n",
        "```\n",
        "md = nltk.corpus.gutenberg.words(\"melville-moby_dick.txt\")\n",
        "md_norm = [word.lower() for word in md if word.isalpha()]\n",
        "```\n",
        "We dont care what type of noun we are looking for.  We want all nouns, so set tagset to universal.\n",
        "```\n",
        "md_tags = nltk.pos_tag(md_norm, tagset=\"universal\")\n",
        "```\n",
        "Save a list of all the words that were tagged as nouns:\n",
        "```\n",
        "md_nouns = [word[0] for word in md_tags if word[1]=='NOUN']\n",
        "```\n",
        "Use a frequency distribution to find the most common nouns.\n",
        "```\n",
        "nouns_fd = nltk.FreqDist(md_nouns)\n",
        "nouns_fd.most_common(10)\n",
        "```"
      ]
    },
    {
      "cell_type": "markdown",
      "metadata": {
        "id": "Gh4bQri1NRgn",
        "colab_type": "text"
      },
      "source": [
        "----\n",
        "## Encoding\n",
        "UTF-8 is the standard for encoding.  Another type of encoding used often is ASCII formatted.  The file used here can be found on the [github for this class.](https://github.com/bsacash/Introduction-to-NLP/tree/master/4.%20Custom%20Sources)\n",
        "\n",
        "## Workig With External Files\n",
        "Read in the data and tokenize it\n",
        "```\n",
        "import nltk\n",
        "di = open('dec_independence.txt')\n",
        "di_text = di.read()\n",
        "# Tokenize it\n",
        "di_token = nltk.word_tokenize(di_text)\n",
        "```"
      ]
    },
    {
      "cell_type": "markdown",
      "metadata": {
        "id": "rX_E6_6MVc3h",
        "colab_type": "text"
      },
      "source": [
        "----\n",
        "## HTML\n",
        "Explore how to bring in text directly from websites.\n",
        "```\n",
        "import nltk\n",
        "from urllib import urlopen\n",
        "```\n",
        "When you pull websites you get the HTML code the site was written in.  We need to format this kind of information.\n",
        "```\n",
        "url = 'https://en.wikipedia.org/wiki/Python_(programming_language)'\n",
        "html = urlopen(url).read()\n",
        "```\n",
        "Use 'BeautifulSoup' library to strip away html code:\n",
        "```\n",
        "from bs4 import BeautifulSoup\n",
        "web_str = BeautifulSoup(html).get_text()\n",
        "```\n",
        "There is still some code in our text.  Look for the start of the main text body.  Do this by using the text of the sentence, from the webpage.  Also look for the last sentence in the main body.\n",
        "```\n",
        "start = web_str.find('Python is an interpreted, high-level, general-purpose programming language.')\n",
        "start#>> 4558\n",
        "end = web_str.find('A non-profit organization, the Python Software Foundation, manages and directs resources for Python and CPython development.')\n",
        "\n",
        "# Get the length of the last sentence.\n",
        "last_sent = len('A non-profit organization, the Python Software Foundation, manages and directs resources for Python and CPython development.')\n",
        "```\n",
        "Remember 'start' returns the index number of where the start string is located.  We have to add the length of the last sentence, or the last sentence wont be included.\n",
        "```\n",
        "intro = web_str[start:end+last_sent]\n",
        "```\n",
        "Now tokenize it:\n",
        "```\n",
        "intro_tokens = nltk.word_tokenize(intro)\n",
        "```\n",
        "\n",
        "----\n",
        "## URL\n",
        "Bring in text directly from a URL.  For this to work, **the source itself must be text.**  Try this on a text that was not included in the nltk lib (Homers Odyssey).\n",
        "```\n",
        "import nltk\n",
        "from urllib import urlopen\n",
        "url = 'http://www.gutenberg.org/cache/epub/26275/pg26275.txt'\n",
        "odyssey_str = urlopen(url).read()\n",
        "```\n",
        "Tokenize it (it is likely that not using decode utf-8 will throw a processing error)\n",
        "```\n",
        "odyssey_tokens = nltk.word_tokenize(odyssey_str.decode('utf-8'))\n",
        "```\n",
        "Notice that this returns a list\n",
        "```\n",
        "type(odyssey_tokens)\n",
        "```\n",
        "To make this an nltk data structure, we have to do the following:\n",
        "```\n",
        "odyssey_text = nltk.Text(odyssey_tokens)\n",
        "type(odyssey_text)#>> nltk.text.Text\n",
        "```\n",
        "\n",
        "\n",
        "----\n",
        "## CSV\n",
        "Using data from a csv file.\n",
        "```\n",
        "import nltk\n",
        "import csv\n",
        "\n",
        "comments = []\n",
        "with open('reviews.csv', 'rb') as file:\n",
        "    reader = csv.reader(file)\n",
        "    for row in reader:\n",
        "        comments.append(row)\n",
        "```\n",
        "Now we can use nltk however we want.\n",
        "```\n",
        "tokens = [nltk.tokenize(str(entry)) for entry in comments]\n",
        "```\n",
        "\n",
        "\n",
        "----\n",
        "## Exporting\n",
        "This is how you export text.\n",
        "```\n",
        "import nltk\n",
        "alice = nltk.corpus.gutenberg.words('carroll-alice.txt')\n",
        "```\n",
        "Just use a chunk of alice in wonderland text.\n",
        "```\n",
        "alice  alice[:1000]\n",
        "```\n",
        "Un-tokenize this chunk of text.  To do this, join all the tokens with a space.\n",
        "```\n",
        "alice_str = ' '.join(alice)\n",
        "```\n",
        "Create a new file, write to it, and close the file.\n",
        "```\n",
        "new_file = open('export.txt', 'w')\n",
        "new_file.write(alice_str)\n",
        "new_file.close()\n",
        "```\n",
        "\n",
        "\n",
        "----\n",
        "## NLTK Resources\n",
        "A comprehensive list of NLTK resources can be found on their [website.](http://www.nltk.org/nltk_data/)\n",
        "\n",
        "One resource provided by nltk is an English word list (a list of all the words you might find in an English dictionary).  Look at the first 20:\n",
        "```\n",
        "import nltk\n",
        "nltk.corpus.words.words()[:20]\n",
        "```\n",
        "Another common resource is stop words. Meaningless filler words are often referred to as stop words.  NLTK provides us a list of stop words.  Lets look at the stop words for English.\n",
        "```\n",
        "nltk.corpus.stopwords.words('english')\n",
        "```\n",
        "\n",
        "\n",
        "## Assignment\n",
        "Load the Alice text and remove the stop words from the 100 most common words.\n",
        "```\n",
        "import nltk\n",
        "alice = nltk.corpus.gutenberg.words('carroll-alice.txt')\n",
        "\n",
        "# normalize our words\n",
        "alice = [words.lower() for words in alice if words.isalpha()]\n",
        "\n",
        "# look at frequency distribution\n",
        "alice_fd = nltk.FreqDist(alice)\n",
        "alice100 = alice_fd.most_common(100)\n",
        "# leave the freqdist count behind, only look at words\n",
        "alice_common = [word[0] for word in alice100]\n",
        "\n",
        "# load the stopwords provided by nltk\n",
        "_stopwords = nltk.corpus.stopwords.words('english')\n",
        "\n",
        "# remove stopwords from the 100 most common words in alice\n",
        "descriptive = set(alice_common) - set(_stopwords)\n",
        "\n",
        "len(descriptive)#>> 29\n",
        "descriptive\n",
        "```\n",
        "\n",
        "\n",
        "----\n",
        "## Project - Simple Sentiment Analysis\n",
        "Sentiment analysis is taking a text and checking if the language used is more positive or negative.  The files used in these projects can be found on the [github for this class.](https://github.com/bsacash/Introduction-to-NLP/tree/master/5.%20Projects)\n",
        "```\n",
        "import numpy as np\n",
        "import nltk\n",
        "import csv\n",
        "\n",
        "# Read in words from negative words file\n",
        "negative = []\n",
        "with open('words_negative.csv', 'rb') as file:\n",
        "    reader = csv.reader(file)\n",
        "    for row in reader:\n",
        "        negative.append(row)\n",
        "\n",
        "# Do the same thing for the positive words\n",
        "positive = []\n",
        "with open('words_positive.csv', 'rb') as file:\n",
        "    reader = csv.reader(file)\n",
        "    for row in reader:\n",
        "        positive.append(row)\n",
        "```\n",
        "Pass text, break it up into different sentences, analyze the sentiment.  Have the function append to a list values of +1 for positive sentences, -1 for negative sentences, and 0 for neutral sentences.\n",
        "```\n",
        "def sentiment(text):\n",
        "    temp = []\n",
        "    text_sent = nltk.sent_tokenize(text)\n",
        "    for sentence in text_sent:\n",
        "        neg_count = 0\n",
        "        pos_count = 0\n",
        "        sent_words = nltk.word_tokenize(sentence)\n",
        "        for word in sent_words:\n",
        "            for item in positive:\n",
        "                if word == item[0]:\n",
        "                    pos_count += 1\n",
        "            for item in negative:\n",
        "                if word == item[0]:\n",
        "                    neg_count += 1\n",
        "        if(pos_count > 0 and neg_count == 0):\n",
        "            temp.append(1)\n",
        "        elif(neg_count%2 > 0):\n",
        "            temp.append(-1)\n",
        "        elif(neg_count%2 > 0 and neg_count > 0):\n",
        "            temp.append(1)\n",
        "        else:\n",
        "            temp.append(0)\n",
        "    return temp\n",
        "```\n",
        "Use this on review file.\n",
        "```\n",
        "comments = []\n",
        "with open('reviews.csv', 'rb') as file:\n",
        "    reader = csv.reader(file)\n",
        "    for row in reader:\n",
        "        coments.append(row)\n",
        "```\n",
        "To determine the sentiment of a review, we need to average the sentiment values of each sentence in the review.\n",
        "```\n",
        "for review in comments:\n",
        "    print('\\n')\n",
        "    print(np.average(sentiment(str(review))))\n",
        "    print(review)\n",
        "```"
      ]
    },
    {
      "cell_type": "markdown",
      "metadata": {
        "id": "yQkZIqSxXeKw",
        "colab_type": "text"
      },
      "source": [
        "----\n",
        "## Project - Classify Names Based on Gender Using Naive Bayes\n",
        "Bayes' Theorem: $$P(A|B) = \\frac{P(B|A)P(A)}{P(B)}$$\n",
        "\n",
        "Naive Assumes: All features are independent \n",
        "\n",
        "[This link is simple explanation of Bayes' Theorem, using lego blocks.](https://www.countbayesie.com/blog/2015/2/18/bayes-theorem-with-lego)\n",
        "\n",
        "Our simple example assumes all female names end in vowels and all male names end in consonants:\n",
        "$$ P(female|\"[aeiouy]\") = \\frac{P(\"[aeiouy]\"|female) P(female)}{P(\"[aeiouy]\")} $$ \n",
        "\n",
        "### Gender Prediction:\n",
        "Build a classifier to classify gender from a name.\n",
        "\n",
        "First make sure you have nltk names installed and sourced:"
      ]
    },
    {
      "cell_type": "code",
      "metadata": {
        "id": "RQJbDX9sMB2p",
        "colab_type": "code",
        "outputId": "b0ca524d-cf6d-452a-dfa1-d533c29df726",
        "colab": {
          "base_uri": "https://localhost:8080/",
          "height": 51
        }
      },
      "source": [
        "nltk.download('names')\n",
        "nltk.data.path.append(\"/root/nltk_data\")"
      ],
      "execution_count": 45,
      "outputs": [
        {
          "output_type": "stream",
          "text": [
            "[nltk_data] Downloading package names to /root/nltk_data...\n",
            "[nltk_data]   Unzipping corpora/names.zip.\n"
          ],
          "name": "stdout"
        }
      ]
    },
    {
      "cell_type": "markdown",
      "metadata": {
        "id": "xwfn8VbpgZrT",
        "colab_type": "text"
      },
      "source": [
        "Look at last 2 letters in a name and build a feature set."
      ]
    },
    {
      "cell_type": "code",
      "metadata": {
        "id": "MgJK7zxZVa-q",
        "colab_type": "code",
        "outputId": "bc678ee2-56b0-4f1f-bec2-9b2495416c03",
        "colab": {
          "base_uri": "https://localhost:8080/",
          "height": 34
        }
      },
      "source": [
        "import nltk\n",
        "import random\n",
        "from nltk.corpus import names\n",
        "names.fileids()"
      ],
      "execution_count": 46,
      "outputs": [
        {
          "output_type": "execute_result",
          "data": {
            "text/plain": [
              "['female.txt', 'male.txt']"
            ]
          },
          "metadata": {
            "tags": []
          },
          "execution_count": 46
        }
      ]
    },
    {
      "cell_type": "markdown",
      "metadata": {
        "id": "JNAXmrMohHB9",
        "colab_type": "text"
      },
      "source": [
        "Plot out the frequency distribution for each letter distribution that falls at the end of each name."
      ]
    },
    {
      "cell_type": "code",
      "metadata": {
        "id": "MIOZPW3ZpeJg",
        "colab_type": "code",
        "colab": {}
      },
      "source": [
        "import matplotlib.pyplot as plt\n",
        "plt.style.use(\"ggplot\")"
      ],
      "execution_count": 0,
      "outputs": []
    },
    {
      "cell_type": "markdown",
      "metadata": {
        "id": "NE-A6Rkepboc",
        "colab_type": "text"
      },
      "source": [
        "Get a conditional frequency distribution for all the names, but we only care about the last two letters in each name."
      ]
    },
    {
      "cell_type": "code",
      "metadata": {
        "id": "0PNeujzppbRd",
        "colab_type": "code",
        "colab": {}
      },
      "source": [
        "#name_cfd = nltk.ConditionalFreqDist((fileid,name[-2:]) for fileid in names.fileids() for name in names.words(fileid))\n",
        "# lines above and below are the same, but sometimes the line above throws an odd error\n",
        "name_cfd = nltk.ConditionalFreqDist(\n",
        "              (fileid, name[-2:])\n",
        "              for fileid in names.fileids()\n",
        "              for name in names.words(fileid))"
      ],
      "execution_count": 0,
      "outputs": []
    },
    {
      "cell_type": "markdown",
      "metadata": {
        "id": "XgC5A5yOrGhl",
        "colab_type": "text"
      },
      "source": [
        "Now plot it out. (You can zoom in by double clicking on the plot.)"
      ]
    },
    {
      "cell_type": "code",
      "metadata": {
        "id": "KkvePtAyqnSo",
        "colab_type": "code",
        "outputId": "65fa96b7-3361-4360-83bc-b0b959c82a5e",
        "colab": {
          "base_uri": "https://localhost:8080/",
          "height": 292
        }
      },
      "source": [
        "import matplotlib\n",
        "plt.figure(figsize=(50,10))\n",
        "name_cfd.plot()\n",
        "plt.show()"
      ],
      "execution_count": 49,
      "outputs": [
        {
          "output_type": "display_data",
          "data": {
            "image/png": "[encoded data removed]",
            "text/plain": [
              "<Figure size 3600x720 with 1 Axes>"
            ]
          },
          "metadata": {
            "tags": []
          }
        }
      ]
    },
    {
      "cell_type": "markdown",
      "metadata": {
        "id": "_QSGhAEpwNRR",
        "colab_type": "text"
      },
      "source": [
        "This plot shows us that the last 2 letters should be a good feature to model on.  Now, lets build a function to get the last two letters from names."
      ]
    },
    {
      "cell_type": "code",
      "metadata": {
        "id": "uCeOzHTVge0D",
        "colab_type": "code",
        "outputId": "e8cac01f-b042-46b9-a3a6-a818d4ebb15c",
        "colab": {
          "base_uri": "https://localhost:8080/",
          "height": 34
        }
      },
      "source": [
        "def name_features(name):\n",
        "    return {\"pair\" : name[-2:]}\n",
        "# test it\n",
        "name_features(\"Katy\")"
      ],
      "execution_count": 50,
      "outputs": [
        {
          "output_type": "execute_result",
          "data": {
            "text/plain": [
              "{'pair': 'ty'}"
            ]
          },
          "metadata": {
            "tags": []
          },
          "execution_count": 50
        }
      ]
    },
    {
      "cell_type": "markdown",
      "metadata": {
        "id": "aOqKpbCB0wqN",
        "colab_type": "text"
      },
      "source": [
        "Use function to build dictionary of feature provided by nltk."
      ]
    },
    {
      "cell_type": "code",
      "metadata": {
        "id": "101YPlFXhHTt",
        "colab_type": "code",
        "colab": {}
      },
      "source": [
        "name_list = [(name, \"male\") for name in names.words('male.txt')] + [(name, \"female\") for name in names.words('female.txt')]"
      ],
      "execution_count": 0,
      "outputs": []
    },
    {
      "cell_type": "markdown",
      "metadata": {
        "id": "0Me5FJgv14Nz",
        "colab_type": "text"
      },
      "source": [
        "Need to be able to test our model.  So, we split groups into train and test sets."
      ]
    },
    {
      "cell_type": "code",
      "metadata": {
        "id": "qfbzxFiFhPry",
        "colab_type": "code",
        "colab": {}
      },
      "source": [
        "# first randomize order of names\n",
        "random.shuffle(name_list)\n",
        "\n",
        "# Find features - two letter pairs for each.\n",
        "features = [(name_features(name), gender) for (name, gender) in name_list]\n",
        "\n",
        "# now split in half, for training and testing sets\n",
        "half = int(len(features)/2)\n",
        "training_set = features[:half]\n",
        "testing_set = features[half:]"
      ],
      "execution_count": 0,
      "outputs": []
    },
    {
      "cell_type": "markdown",
      "metadata": {
        "id": "7HNGKoWs2IQR",
        "colab_type": "text"
      },
      "source": [
        "Use Naive Bayes to test our model.  Test if a name is in our classifier."
      ]
    },
    {
      "cell_type": "code",
      "metadata": {
        "id": "GsIP-7v5hpHi",
        "colab_type": "code",
        "outputId": "03a9935a-6490-49c3-b52f-2ba1304e3bb1",
        "colab": {
          "base_uri": "https://localhost:8080/",
          "height": 34
        }
      },
      "source": [
        "classifier = nltk.NaiveBayesClassifier.train(training_set)\n",
        "male_names = names.words(\"male.txt\")\n",
        "\"Carmello\" in male_names"
      ],
      "execution_count": 53,
      "outputs": [
        {
          "output_type": "execute_result",
          "data": {
            "text/plain": [
              "False"
            ]
          },
          "metadata": {
            "tags": []
          },
          "execution_count": 53
        }
      ]
    },
    {
      "cell_type": "markdown",
      "metadata": {
        "id": "vCHCkGPnKv7N",
        "colab_type": "text"
      },
      "source": [
        "It is not, so check what our classifier thinks the name is."
      ]
    },
    {
      "cell_type": "code",
      "metadata": {
        "id": "J0JZzIxUtaXY",
        "colab_type": "code",
        "outputId": "404cade9-d315-4692-d6da-f6c8e21c4429",
        "colab": {
          "base_uri": "https://localhost:8080/",
          "height": 34
        }
      },
      "source": [
        "classifier.classify(name_features(\"Carmello\"))"
      ],
      "execution_count": 54,
      "outputs": [
        {
          "output_type": "execute_result",
          "data": {
            "text/plain": [
              "'male'"
            ]
          },
          "metadata": {
            "tags": []
          },
          "execution_count": 54
        }
      ]
    },
    {
      "cell_type": "markdown",
      "metadata": {
        "id": "Bth0Kwx8K87D",
        "colab_type": "text"
      },
      "source": [
        "Use the testing set to check how well our model did."
      ]
    },
    {
      "cell_type": "code",
      "metadata": {
        "id": "kb5mVJS7uSGc",
        "colab_type": "code",
        "outputId": "461336e3-f506-440d-96a5-84df732d6fcd",
        "colab": {
          "base_uri": "https://localhost:8080/",
          "height": 34
        }
      },
      "source": [
        "nltk.classify.accuracy(classifier, testing_set)"
      ],
      "execution_count": 55,
      "outputs": [
        {
          "output_type": "execute_result",
          "data": {
            "text/plain": [
              "0.777693856998993"
            ]
          },
          "metadata": {
            "tags": []
          },
          "execution_count": 55
        }
      ]
    },
    {
      "cell_type": "markdown",
      "metadata": {
        "id": "xDl0yOxwPzPn",
        "colab_type": "text"
      },
      "source": [
        "Looking at many features may result in better accuracy.\n"
      ]
    },
    {
      "cell_type": "markdown",
      "metadata": {
        "id": "I_Ne-BluQqmi",
        "colab_type": "text"
      },
      "source": [
        "----\n",
        "## Project: Term Frequency, Inverse Document Frequency (TF-IDF)\n",
        "This one of the best approached to identify descriptive words from documents.  TF-IDF is alos very useful in identifying related texts.\n",
        "\n",
        "First load data:\n",
        "```\n",
        "import nltk\n",
        "import math\n",
        "\n",
        "dataset = {\n",
        "    \"tfidf_1.txt\":open(\"tfidf_1.txt\").read(),\n",
        "    \"tfidf_2.txt\":open(\"tfidf_2.txt\").read(),\n",
        "    \"tfidf_3.txt\":open(\"tfidf_3.txt\").read(),\n",
        "    \"tfidf_4.txt\":open(\"tfidf_4.txt\").read(),\n",
        "    \"tfidf_5.txt\":open(\"tfidf_5.txt\").read(),\n",
        "    \"tfidf_6.txt\":open(\"tfidf_6.txt\").read(),\n",
        "    \"tfidf_7.txt\":open(\"tfidf_7.txt\").read(),\n",
        "    \"tfidf_8.txt\":open(\"tfidf_8.txt\").read(),\n",
        "    \"tfidf_9.txt\":open(\"tfidf_9.txt\").read(),\n",
        "    \"tfidf_10.txt\":open(\"tfidf_10.txt\").read()\n",
        "}\n",
        "```\n",
        "Then define functions:\n",
        "```\n",
        "# Calculate term frequencies\n",
        "def tf(dataset, file_name):\n",
        "    text = dataset[file_name]\n",
        "    tokens = nltk.word_tokenize(text)\n",
        "    fd = nltk.FreqDist(tokens)\n",
        "    return fd\n",
        "\n",
        "# Calculate inverse document frequency\n",
        "def idf(dataset, term):\n",
        "    count = [term in dataset[file_name] for file_name in dataset]\n",
        "    inv_df = math.log(len(count)/sum(count))\n",
        "    return inv_df\n",
        "```\n",
        "Multiply the two previous functions together to get our tfidf score. Our Term Frequency is the number of times a specific word shows up in a document.  Our Inverse Document Frequency is the logarithm of how many documents ever contain that word, out of all our documents. Doing this for every word in each document gives them a score; the last step is to look at the scores across whole documents.  TF-IDF naturally takes care of stop-words for us.\n",
        "```\n",
        "def tfidf(dataset, file_name, n):\n",
        "    term_scores = {}\n",
        "    file_fd = tf(dataset,file_name)\n",
        "    for term in file_fd:\n",
        "        if term.isalpha():\n",
        "            idf_val = idf(dataset,term)\n",
        "            tf_val = tf(dataset, file_name)[term]\n",
        "            tfidf = tf_val*idf_val\n",
        "            term_scores[term] = round(tfidf,2)\n",
        "    return sorted(term_scores.items(), key=lambda x:-x[1])[:n]\n",
        "```\n",
        "\n",
        "Finally, run the code:\n",
        "```\n",
        "tfidf(dataset,\"tfidf_1.txt\",5)\n",
        "```\n",
        "Run on all documents and check the top 5 words in each\n",
        "```\n",
        "for file_name in dataset:\n",
        "    print(\"{0}: \\n {1} \\n\".format(file_name, tfidf(dataset,file_name,5)))\n",
        "```"
      ]
    },
    {
      "cell_type": "code",
      "metadata": {
        "id": "Uqcbg3Ysun9q",
        "colab_type": "code",
        "colab": {}
      },
      "source": [
        ""
      ],
      "execution_count": 0,
      "outputs": []
    }
  ]
}