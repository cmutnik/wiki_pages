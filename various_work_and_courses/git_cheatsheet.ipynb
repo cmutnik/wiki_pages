{
  "nbformat": 4,
  "nbformat_minor": 0,
  "metadata": {
    "colab": {
      "name": "git_cheatsheet.ipynb",
      "provenance": [],
      "collapsed_sections": []
    },
    "kernelspec": {
      "name": "python3",
      "display_name": "Python 3"
    }
  },
  "cells": [
    {
      "cell_type": "markdown",
      "metadata": {
        "id": "pTfcBRodqYHt",
        "colab_type": "text"
      },
      "source": [
        "# **git Cheat-sheet**\n",
        "----\n",
        "----"
      ]
    },
    {
      "cell_type": "markdown",
      "metadata": {
        "id": "PgR4G44Gtr2m",
        "colab_type": "text"
      },
      "source": [
        "### Notes Before Starting\n",
        "\n",
        "Google colab interactive notebooks are able to run various kinds of commands.  To run a shell commands, each line must be predicated by an exclamation point. ie to list directory contents using the command ```ls```, it needs to be entered as ```!ls```.  Try to run the command here:\n",
        "<!---\n",
        "```ls```, it needs to be entered as \n",
        "```\n",
        "!ls\n",
        "```\n",
        "--->"
      ]
    },
    {
      "cell_type": "code",
      "metadata": {
        "id": "guhGEG7n2wgS",
        "colab_type": "code",
        "outputId": "19c35a9d-1c63-4597-e75e-1fd930ceaa26",
        "colab": {
          "base_uri": "https://localhost:8080/",
          "height": 34
        }
      },
      "source": [
        "!ls"
      ],
      "execution_count": 0,
      "outputs": [
        {
          "output_type": "stream",
          "text": [
            "sample_data\n"
          ],
          "name": "stdout"
        }
      ]
    },
    {
      "cell_type": "markdown",
      "metadata": {
        "id": "wH9Tgz5r3XFV",
        "colab_type": "text"
      },
      "source": [
        "With that said, we do not want most of these commands executed here.  So, this notebook will not use the ```!``` command to initiate these code snippets."
      ]
    },
    {
      "cell_type": "markdown",
      "metadata": {
        "id": "v8Lx6Wxu4CVg",
        "colab_type": "text"
      },
      "source": [
        "----\n",
        "## Requirements\n",
        "\n",
        "Unless otherwise specified, all of the commands shown on this page are used in a terminal.  This page explains how to use the version control tool git.  Git is always releasing updates and the command line is the fastest way to implement these.  The command line is a powerful tool (I highly recommend getting comfortable with it).\n",
        "\n",
        "In order to run the commands listed here, you must two things. \n",
        "1. git  must be installed\n",
        "2. git needs to know your name and email\n",
        "```\n",
        "# set gobal name\n",
        "git config --global user.name \"John Smith\"\n",
        "# set global email\n",
        "git config --global user.email \"johnsmith@gmail.com\"\n",
        "```\n",
        "\n",
        "Confirm your git settings at any time with ```git config --global --list```\n",
        "\n",
        "Once these two requirement are met, you are ready to use git.\n"
      ]
    },
    {
      "cell_type": "markdown",
      "metadata": {
        "id": "1yfXRFDOxKqm",
        "colab_type": "text"
      },
      "source": [
        "----\n",
        "## Initializing git\n",
        "The first thing we will look at is how to get help.  All git help can be accessed by typing ```git help <command>```.  The word help comes before the command you want help with.  This is not the same as man pages."
      ]
    },
    {
      "cell_type": "code",
      "metadata": {
        "id": "092W8F9hw6C9",
        "colab_type": "code",
        "colab": {}
      },
      "source": [
        "git help init"
      ],
      "execution_count": 0,
      "outputs": []
    },
    {
      "cell_type": "markdown",
      "metadata": {
        "id": "8TEWxoBBtTSJ",
        "colab_type": "text"
      },
      "source": [
        "To initialize a git repository, follow these steps.\n",
        "1. Make directory\n",
        "2. Move into directory\n",
        "3. Initialize git with command 'init'"
      ]
    },
    {
      "cell_type": "code",
      "metadata": {
        "id": "-oAWrvVJtL4p",
        "colab_type": "code",
        "colab": {}
      },
      "source": [
        "mkdir -p git/project/dir\n",
        "cd git/project/dir\n",
        "git init"
      ],
      "execution_count": 0,
      "outputs": []
    },
    {
      "cell_type": "markdown",
      "metadata": {
        "id": "ckecocdHrd03",
        "colab_type": "text"
      },
      "source": [
        "----\n",
        "## Git commands\n",
        "You only need 4 commands to successful use the remote version control tool [github.](https://github.com/)\n",
        "You can use git locally, but when you wish to collaborate it is best to use remote version control.  The ```git push <>``` command is only needed when making changes to a remote storage location, like github.  Github is useful for things like working with others.\n",
        "\n",
        "Now that you are in your git directory, make a file and add it to github.  You can make an empty file with the 'touch' command, but here we want our file to have contents."
      ]
    },
    {
      "cell_type": "code",
      "metadata": {
        "id": "_unFtj_kCh_6",
        "colab_type": "code",
        "colab": {}
      },
      "source": [
        "# make a file with contents\n",
        "echo \"random words\" > test_file.dat"
      ],
      "execution_count": 0,
      "outputs": []
    },
    {
      "cell_type": "markdown",
      "metadata": {
        "id": "4948aP-sCi-L",
        "colab_type": "text"
      },
      "source": [
        "These are the first three essential commands you need to use for github.  The last command, ```git push <>``` is discussed [below](https://colab.research.google.com/drive/14FKN0o6BQVgPE6PgK3uI35cAWSqI6Edy#scrollTo=jnIPlUBUBeqc)."
      ]
    },
    {
      "cell_type": "code",
      "metadata": {
        "id": "f0rY7p-jtJjw",
        "colab_type": "code",
        "colab": {}
      },
      "source": [
        "# add your file to git\n",
        "git add test_file.dat\n",
        "# commit your changes with a message\n",
        "git commit -m \"test file\"\n",
        "# push your changes to the remote repo\n",
        "git push origin master\n"
      ],
      "execution_count": 0,
      "outputs": []
    },
    {
      "cell_type": "markdown",
      "metadata": {
        "id": "wSiIEOdfvJp3",
        "colab_type": "text"
      },
      "source": [
        "The code above is how you add one file, named test_file.dat.  If you wish to add all changes in the directory, you can use a few different ```git add ``` options.\n",
        "- -a\n",
        "- -A\n",
        "- .\n",
        "- *"
      ]
    },
    {
      "cell_type": "code",
      "metadata": {
        "id": "4UX_i7S2vfOJ",
        "colab_type": "code",
        "colab": {}
      },
      "source": [
        "# add everything in this directory to git\n",
        "git add *\n",
        "git commit -m \"attached message\" -a\n",
        "git push origin master"
      ],
      "execution_count": 0,
      "outputs": []
    },
    {
      "cell_type": "code",
      "metadata": {
        "id": "QClwHFJNwWku",
        "colab_type": "code",
        "colab": {}
      },
      "source": [
        "# Track if changes have been made/added.\n",
        "git status"
      ],
      "execution_count": 0,
      "outputs": []
    },
    {
      "cell_type": "markdown",
      "metadata": {
        "id": "5R28gBw4wZHt",
        "colab_type": "text"
      },
      "source": [
        "To unstage changes made to a file, use ```git reset```. "
      ]
    },
    {
      "cell_type": "code",
      "metadata": {
        "id": "E4QqvJeQwoZE",
        "colab_type": "code",
        "colab": {}
      },
      "source": [
        "# modify the file\n",
        "echo \"line two\" >> test_file.dat\n",
        "# add file to git\n",
        "git add test_file.dat\n",
        "# after something is added, you can unstage changes\n",
        "git reset HEAD test_file.dat"
      ],
      "execution_count": 0,
      "outputs": []
    },
    {
      "cell_type": "markdown",
      "metadata": {
        "id": "_8KcWc1dxOfs",
        "colab_type": "text"
      },
      "source": [
        "To discard changes in a file, use ```git checkout```."
      ]
    },
    {
      "cell_type": "code",
      "metadata": {
        "id": "rE3EpFsNxO14",
        "colab_type": "code",
        "colab": {}
      },
      "source": [
        "get checkout -- <file>"
      ],
      "execution_count": 0,
      "outputs": []
    },
    {
      "cell_type": "markdown",
      "metadata": {
        "id": "kF42kWIl3x2x",
        "colab_type": "text"
      },
      "source": [
        "To simply list commits waiting to be pushed:\n",
        "```\n",
        "git cherry -v\n",
        "```\n",
        "\n",
        "Older versions of git do NOT automatically remove files that have been deleted from the directory.  In order to remove a file from git you need to use a special command.  Newer versions of git do this automatically, when commands like ```git add *``` are used.\n",
        "\n",
        "Other command, like ```git mv <file_to_move> <end_location>```, have also been made obsolete by newer versions of git.  If you use ```git add *``` when adding files, git will update your directory tree according to your cwd.  This means you can move files with the usual bash command ```mv <file_to_move> <end_location>``` rather than moving them with git."
      ]
    },
    {
      "cell_type": "code",
      "metadata": {
        "id": "luSKNGuB3xRd",
        "colab_type": "code",
        "colab": {}
      },
      "source": [
        "# remove a file from your current directory\n",
        "rm test_file.dat\n",
        "# tell an older version of git to also remove the file; then commit these changes\n",
        "git add -u\n",
        "git commit -m \"Removed file\""
      ],
      "execution_count": 0,
      "outputs": []
    },
    {
      "cell_type": "markdown",
      "metadata": {
        "id": "0v6R6LCPx46E",
        "colab_type": "text"
      },
      "source": [
        "----\n",
        "## Log Files\n",
        "\n",
        "Now we want to check git has been doing what it claims to and the files we added were actually changed.  To do this, we use the log files.  The standard output of the log is to show the most recent changed at the top.\n",
        "\n",
        "The output of running ```git log``` is commented out below.  Git uses SHA1 hash to store changes.  The SHA1 hash label follows the word \"commit.\"  Next, git prints who made the changes, when they were made, and any message added to the commit."
      ]
    },
    {
      "cell_type": "code",
      "metadata": {
        "id": "2VPOHAXCyEyj",
        "colab_type": "code",
        "colab": {}
      },
      "source": [
        "git log\n",
        "#>> commit b5a1747b4d5e96b46412dd3061b961ad6f5fde81 (HEAD -> master, origin/master, origin/HEAD)\n",
        "#>> Author: Corey Mutnik <cmutnik@hawaii.edu>\n",
        "#>> Date:   Wed May 6 14:52:32 2020 -0400\n",
        "#\n",
        "#>>    removed test file\n",
        "\n",
        "# use the help command to review all the options offered by git log\n",
        "git help log"
      ],
      "execution_count": 0,
      "outputs": []
    },
    {
      "cell_type": "markdown",
      "metadata": {
        "id": "jm0x7lGKzqqr",
        "colab_type": "text"
      },
      "source": [
        "Try:\n",
        "```\n",
        "git log --decorate\n",
        "```\n",
        "One example is using the command shown below.  This will print out a much more compact version of the same information."
      ]
    },
    {
      "cell_type": "code",
      "metadata": {
        "id": "a5VCIXDl0y2o",
        "colab_type": "code",
        "colab": {}
      },
      "source": [
        "git log --oneline --graph --decorate --color\n",
        "#>> * 817623c test\n",
        "#>> * 56e235f quick push\n",
        "#>> * 5cc026b quick push\n",
        "#>> * b155e35 quick push"
      ],
      "execution_count": 0,
      "outputs": []
    },
    {
      "cell_type": "markdown",
      "metadata": {
        "id": "udvA_-eQ1Xpd",
        "colab_type": "text"
      },
      "source": [
        "----\n",
        "## Ignoring Files\n",
        "\n",
        "You can have files in your current git directory that aren't added to git.  This can be done by using one of two files:\n",
        "- .gitignore\n",
        "- .git/info/exclude\n",
        "\n",
        "When using a .gitignore file, make sure you add this file to your project.  I have had some issues when using the .gitignore file, so I recommend the second method.\n",
        "\n",
        "Both files have the same format: one pattern per line.  This means each line is the name of either a file or directory you want git to ignore.  The code block below is an example of what one of these files would look like."
      ]
    },
    {
      "cell_type": "code",
      "metadata": {
        "id": "YOO3-1aH1X_N",
        "colab_type": "code",
        "colab": {}
      },
      "source": [
        "# tell git to ignore this file\n",
        ".DS_Store\n",
        "# if you want git to ignore all files ending in a tilde\n",
        "*~"
      ],
      "execution_count": 0,
      "outputs": []
    },
    {
      "cell_type": "markdown",
      "metadata": {
        "id": "JcI0QdEq8gAu",
        "colab_type": "text"
      },
      "source": [
        "----\n",
        "## SSH Authentication\n",
        "\n",
        "Git can be used locally \n",
        "\n",
        "In your root directory you need to create a .ssh folder to house your keys.  Once this folder is created, move into it and generate a key.  These steps are shown in a video [here.](https://bah.udemy.com/course/git-going-fast/learn/lecture/1332358#overview)"
      ]
    },
    {
      "cell_type": "code",
      "metadata": {
        "id": "HTXLvGDQ9XaQ",
        "colab_type": "code",
        "colab": {}
      },
      "source": [
        "# change to root directory\n",
        "cd ~\n",
        "# chsck if a .ssh folder exists\n",
        "ls -a\n",
        "# if needed, create the folder\n",
        "mkdir .ssh\n",
        "# move into the .ssh folder\n",
        "cd .ssh\n",
        "\n",
        "# generate ssh key (type: rsa)\n",
        "ssh-keygen -t rsa -C \"<your_email@address>\""
      ],
      "execution_count": 0,
      "outputs": []
    },
    {
      "cell_type": "markdown",
      "metadata": {
        "id": "W267R9YA-L3g",
        "colab_type": "text"
      },
      "source": [
        "Right after you generate a key, you will be prompted to choose where it goes.  The default is fine.  Then you have the option of setting a passphrase.  \n",
        "\n",
        "Once this is done, you will have a key, ```id_rsa``` and a public key ```id_rsa.pub```  The public side of the key will be what we paste into github.  Follow these steps:\n",
        "1. Copy the contents of the public key\n",
        "2. Go to [github](https://github.com/) and login\n",
        "  - click account settings\n",
        "  - click \"SSH keys\"\n",
        "  - click \"Add SSH key\"\n",
        "  - give your key a title\n",
        "3. paste contents into the designated area for \"Key\"\n",
        "\n",
        "Remember ssh keys are tied to your computer.  Once this is done you can use the ssh command to access github:\n",
        "\n",
        "```ssh -T git@github.com```\n",
        "\n",
        "You will be prompted to add github to your known hosts.  Choose yes to not be prompted again in the future."
      ]
    },
    {
      "cell_type": "markdown",
      "metadata": {
        "id": "jnIPlUBUBeqc",
        "colab_type": "text"
      },
      "source": [
        "----\n",
        "## Pushing to Remote Repository\n",
        "\n",
        "Github is one of many remote repositories backed by git.  You can clone an existing github repo or choose to push the contents of your CWD to github."
      ]
    },
    {
      "cell_type": "code",
      "metadata": {
        "id": "S8EHYPqn-V56",
        "colab_type": "code",
        "colab": {}
      },
      "source": [
        "# check what github repo your CWD is associated with \n",
        "git remote -v"
      ],
      "execution_count": 0,
      "outputs": []
    },
    {
      "cell_type": "markdown",
      "metadata": {
        "id": "nkrep8SgCF2O",
        "colab_type": "text"
      },
      "source": [
        "Now that a remote repository has been set, we can push changes to it.  From our local git repository, we use the ```git push origin master``` command.  This command syncs the contents of our local directory up to a remote repo on [github.](https://github.com/)\n",
        "\n",
        "The first time we use the ```git push``` command, we need to use the flag ```-u```.  It is often helpful to use the ```-u``` flag to add upstream tracking.  This is the same as using ```--set-upstream```."
      ]
    },
    {
      "cell_type": "code",
      "metadata": {
        "id": "S7slvBmaCZoF",
        "colab_type": "code",
        "colab": {}
      },
      "source": [
        "# for our first push to github\n",
        "git push -u origin master"
      ],
      "execution_count": 0,
      "outputs": []
    },
    {
      "cell_type": "markdown",
      "metadata": {
        "id": "tQhm8K9hEFf4",
        "colab_type": "text"
      },
      "source": [
        "Now we have a remote repository on github.  You can access this using the URL replacing the information in bracets and removing the spaces: \n",
        "\n",
        "```github.com/ <your_github_username> / <directory_name>```\n",
        "\n",
        "Changes made to your local repository are not reflected on github until after you ```push``` those changes.\n",
        "\n",
        "Before modifying any files in your local directory, it is good practice to ```pull``` down from github (pull at start of day, before you modify local files).  Pulling allows any changes that have been made to the remote repository to be reflected in your local directory."
      ]
    },
    {
      "cell_type": "code",
      "metadata": {
        "id": "VMkAXXR4E9-V",
        "colab_type": "code",
        "colab": {}
      },
      "source": [
        "# pull changes from remote repo\n",
        "git pull origin master\n",
        "# OR\n",
        "git pull --rebase"
      ],
      "execution_count": 0,
      "outputs": []
    },
    {
      "cell_type": "markdown",
      "metadata": {
        "id": "vgUOoFevF9aH",
        "colab_type": "text"
      },
      "source": [
        "### It is good practice to ```pull``` before pushing any changes up to github.\n",
        "This is necessary when collaborating with others.  You do not need to pull before a push if you are the only contributor (no one else is modifying the repo)."
      ]
    },
    {
      "cell_type": "code",
      "metadata": {
        "id": "fZGV8NDNGVyi",
        "colab_type": "code",
        "colab": {}
      },
      "source": [
        "# use git pull before git push\n",
        "git pull origin master\n",
        "git push origin master"
      ],
      "execution_count": 0,
      "outputs": []
    },
    {
      "cell_type": "markdown",
      "metadata": {
        "id": "WUBuzpBPJI9n",
        "colab_type": "text"
      },
      "source": [
        "----\n",
        "## Error When Pushing\n",
        "To check your current git Buffer size:\n",
        "```\n",
        "git config --get http.postBuffer\n",
        "```\n",
        "![](https://raw.githubusercontent.com/cmutnik/wiki_pages/master/bah/git_error1.jpg)\n",
        "If you get the error shown in the image above, you need to change the size with the command `git config http.postBuffer 524288000` in this order:\n",
        "```\n",
        "git add *\n",
        "git commit -m \"message\" -a\n",
        "git config http.postBuffer 524288000\n",
        "git push\n",
        "```\n",
        "Increasing the Git buffer size to `524288000` should resolve this issue.  If you dont want to use this specific value, you can increase the Git buffer size to the largest individual file size of your repo.\n",
        "<br>\n",
        "To get file size of largest file in your repo, `cd <repo_loc>` and run the following:\n",
        "```\n",
        "du * | sort -gr | head -1 | awk '{print $1}' -\n",
        "```\n",
        "To automatically use the largest file size as your git Buffer value:\n",
        "```\n",
        "git config http.postBuffer $(du * | sort -gr | head -1 | awk '{print $1}' -)\n",
        "```\n",
        "It is easy to make this into a function and throw it in your bashrc.\n",
        "```\n",
        "# Syntax: maxbuff [directory]\n",
        "function maxbuff() {\n",
        "  if [[ -z $1 ]] ; then n='*' ; else n=$1 ; fi\n",
        "  git config http.postBuffer $(du $n | sort -gr | head -1 | awk '{print $1}' -)\n",
        "}\n",
        "```\n",
        "\n",
        "\n",
        "----\n",
        "## Compare Branches\n",
        "This is the simplest way of comparing differences between local and remote branches of your repository.  The version on your machine is your local branch.  A remote branch is stored in another location, like github.  \n",
        "\n",
        "First, get a copy of the remote repo:\n",
        "```\n",
        "git fetch\n",
        "```\n",
        "  - stdout:\n",
        "```\n",
        "# From https://github.com/user/git/repo\n",
        "#   d...7          master           -> origin/master\n",
        "# * [new branch]   username_dirname -> origin/username_dirname\n",
        "```\n",
        "\n",
        "Now we use the diff command to track differences:\n",
        "```\n",
        "# Syntax: git diff <masterbranch_path> <remotebranch_path>\n",
        "git diff origin/master origin/username_dirname\n",
        "```\n",
        "Now use `branch` to list repos.\n",
        "<br>\n",
        "Use `-a` to list all local and remote repos:\n",
        "```\n",
        "git branch -a\n",
        "```\n",
        "  - stdout:\n",
        "```\n",
        "* master\n",
        "  remotes/origin/HEAD -> origin/master\n",
        "  remotes/origin/master\n",
        "  remotes/origin/mawia_speakeasy\n",
        "```\n",
        "\n",
        "\n",
        "Use `-r` to see remote branches:\n",
        "```\n",
        "git branch -r\n",
        "```\n",
        "Now show the difference\n",
        "```\n",
        "git diff master origin/master\n",
        "```\n",
        "\n",
        "## Compare Files\n",
        "To compare a specified file across different branches\n",
        "```\n",
        "git diff master new_branch ./diff_test.txt\n",
        "```\n",
        "Compare the trees named by the two arguments:\n",
        "```\n",
        "git-diff-tree [-r] <tree-ish-1> <tree-ish-2> [<pattern>…​]\n",
        "```\n",
        "EXAMPLE use:\n",
        "```\n",
        "git diff-tree HEAD origin/master\n",
        "```\n",
        "\n",
        "\n",
        "----\n",
        "### Fancy Commit Messages\n",
        "Using the command `git config --global commit.template ~/.gitmessage.txt` changes a global setting in your `~/.gitconfig` file.  Then, if you run `git commit`, you can write a message using the template you just set.  Doing this will cause git to open the template in emacs; it will look like\n",
        "```\n",
        "Subject line (try to keep under 50 characters)\n",
        "\n",
        "Multi-line description of commit,\n",
        "feel free to be detailed.\n",
        "\n",
        "[Ticket: X]\n",
        "# Please enter the commit message for your changes. Lines starting\n",
        "# with '#' will be ignored, and an empty message aborts the commit.\n",
        "# On branch master\n",
        "# Changes to be committed:\n",
        "#   (use \"git reset HEAD <file>...\" to unstage)\n",
        "#\n",
        "# modified:   lib/test.rb\n",
        "#\n",
        "~\n",
        "~\n",
        "\".git/COMMIT_EDITMSG\" 14L, 297C\n",
        "```\n",
        "\n",
        "\n",
        "\n"
      ]
    },
    {
      "cell_type": "code",
      "metadata": {
        "id": "INBi2pvJ-1KX",
        "colab_type": "code",
        "colab": {}
      },
      "source": [
        ""
      ],
      "execution_count": 0,
      "outputs": []
    }
  ]
}