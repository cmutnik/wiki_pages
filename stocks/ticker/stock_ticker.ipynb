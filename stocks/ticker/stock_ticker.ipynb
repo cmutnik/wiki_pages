{
  "nbformat": 4,
  "nbformat_minor": 0,
  "metadata": {
    "colab": {
      "name": "stock_ticker.ipynb",
      "provenance": [],
      "collapsed_sections": []
    },
    "kernelspec": {
      "name": "python3",
      "display_name": "Python 3"
    }
  },
  "cells": [
    {
      "cell_type": "markdown",
      "metadata": {
        "id": "_4L0rGg3i9cq",
        "colab_type": "text"
      },
      "source": [
        "# **Stock Ticker**\n",
        "Dont worry about the following block of code, it just:\n",
        "<br>\n",
        "tell google colab to run this block of code in shell\n",
        "<br>\n",
        "installs the necessary package `jq`,\n",
        "<br>\n",
        "gets the stock ticker script `ticker.sh`\n",
        "<br>\n",
        "changes `ticker.sh` permission, so its exectuable\n",
        "<br>\n",
        "the last line runs the script, to test that it works"
      ]
    },
    {
      "cell_type": "code",
      "metadata": {
        "id": "0JWFLi_LgXJc",
        "colab_type": "code",
        "outputId": "04d8e97d-af57-4c74-c768-c29e9ed14048",
        "colab": {
          "base_uri": "https://localhost:8080/",
          "height": 676
        }
      },
      "source": [
        "%%shell\n",
        "# ticker.sh uses jq, so install it with apt-get\n",
        "apt-get install jq\n",
        "\n",
        "# get the code: ticker.sh\n",
        "curl -o ticker.sh https://raw.githubusercontent.com/pstadler/ticker.sh/master/ticker.sh\n",
        "\n",
        "# change permission, so you can use ticker.sh\n",
        "chmod a+x ticker.sh\n",
        "# you could have also used: chmod +x ticker.sh\n",
        "\n",
        "# run ticker.sh\n",
        "./ticker.sh AAPL"
      ],
      "execution_count": 1,
      "outputs": [
        {
          "output_type": "stream",
          "text": [
            "Reading package lists... Done\n",
            "Building dependency tree       \n",
            "Reading state information... Done\n",
            "The following package was automatically installed and is no longer required:\n",
            "  libnvidia-common-440\n",
            "Use 'apt autoremove' to remove it.\n",
            "The following additional packages will be installed:\n",
            "  libjq1 libonig4\n",
            "The following NEW packages will be installed:\n",
            "  jq libjq1 libonig4\n",
            "0 upgraded, 3 newly installed, 0 to remove and 43 not upgraded.\n",
            "Need to get 276 kB of archives.\n",
            "After this operation, 930 kB of additional disk space will be used.\n",
            "Get:1 http://archive.ubuntu.com/ubuntu bionic/universe amd64 libonig4 amd64 6.7.0-1 [119 kB]\n",
            "Get:2 http://archive.ubuntu.com/ubuntu bionic/universe amd64 libjq1 amd64 1.5+dfsg-2 [111 kB]\n",
            "Get:3 http://archive.ubuntu.com/ubuntu bionic/universe amd64 jq amd64 1.5+dfsg-2 [45.6 kB]\n",
            "Fetched 276 kB in 0s (2,583 kB/s)\n",
            "Selecting previously unselected package libonig4:amd64.\n",
            "(Reading database ... 144328 files and directories currently installed.)\n",
            "Preparing to unpack .../libonig4_6.7.0-1_amd64.deb ...\n",
            "Unpacking libonig4:amd64 (6.7.0-1) ...\n",
            "Selecting previously unselected package libjq1:amd64.\n",
            "Preparing to unpack .../libjq1_1.5+dfsg-2_amd64.deb ...\n",
            "Unpacking libjq1:amd64 (1.5+dfsg-2) ...\n",
            "Selecting previously unselected package jq.\n",
            "Preparing to unpack .../jq_1.5+dfsg-2_amd64.deb ...\n",
            "Unpacking jq (1.5+dfsg-2) ...\n",
            "Setting up libonig4:amd64 (6.7.0-1) ...\n",
            "Setting up libjq1:amd64 (1.5+dfsg-2) ...\n",
            "Setting up jq (1.5+dfsg-2) ...\n",
            "Processing triggers for man-db (2.8.3-2ubuntu0.1) ...\n",
            "Processing triggers for libc-bin (2.27-3ubuntu1) ...\n",
            "/sbin/ldconfig.real: /usr/local/lib/python3.6/dist-packages/ideep4py/lib/libmkldnn.so.0 is not a symbolic link\n",
            "\n",
            "  % Total    % Received % Xferd  Average Speed   Time    Time     Time  Current\n",
            "                                 Dload  Upload   Total   Spent    Left  Speed\n",
            "100  2462  100  2462    0     0  10658      0 --:--:-- --:--:-- --:--:-- 10658\n",
            "AAPL      \u001b[1;37m  336.70\u001b[00m\u001b[32m      0.80     (0.24%)\u001b[00m *\n"
          ],
          "name": "stdout"
        },
        {
          "output_type": "execute_result",
          "data": {
            "text/plain": [
              ""
            ]
          },
          "metadata": {
            "tags": []
          },
          "execution_count": 1
        }
      ]
    },
    {
      "cell_type": "markdown",
      "metadata": {
        "id": "spbPmeJKhJDd",
        "colab_type": "text"
      },
      "source": [
        "Google Colab notebooks are *.ipynb (extension ipynb), so the run python code.  The stock ticker `ticker.sh` is a shell script, so we need to tell colab to not run it as python, but run it in a shell (bash works, but we use a generic `shell`). The like `%%shell` tells colab that everything in this block of code is to be run inline, as shell.  Similarly, you could do this with HTML code, using `%%HTML`.\n",
        "\n",
        "Using `%%shell` is useful when you have a block of code to run in shell, but you could just signify a single line of code to be run in shell, by starting the line with a `!`.  This means if you wanna run the `ls` command in shell (to list everything in your current directory), you can use: \n",
        "```\n",
        "%%shell\n",
        "ls\n",
        "```\n",
        "or you can use\n",
        "```\n",
        "!ls\n",
        "```\n",
        "you cant just type \n",
        "```\n",
        "ls\n",
        "```\n",
        "cuz google colab will think its python code\n",
        "\n",
        "Now, lets see this in action:"
      ]
    },
    {
      "cell_type": "code",
      "metadata": {
        "id": "-vNJ8AL5gmfA",
        "colab_type": "code",
        "outputId": "01a6bc27-b73c-44a8-fc12-6eed53a93d1f",
        "colab": {
          "base_uri": "https://localhost:8080/",
          "height": 34
        }
      },
      "source": [
        "%%shell\n",
        "ls"
      ],
      "execution_count": 0,
      "outputs": [
        {
          "output_type": "stream",
          "text": [
            "sample_data  ticker.sh\n"
          ],
          "name": "stdout"
        },
        {
          "output_type": "execute_result",
          "data": {
            "text/plain": [
              ""
            ]
          },
          "metadata": {
            "tags": []
          },
          "execution_count": 4
        }
      ]
    },
    {
      "cell_type": "code",
      "metadata": {
        "id": "weX-7r1li1o7",
        "colab_type": "code",
        "outputId": "eec01e0a-5b2a-43ad-cb85-5569f5e29221",
        "colab": {
          "base_uri": "https://localhost:8080/",
          "height": 35
        }
      },
      "source": [
        "!ls"
      ],
      "execution_count": 0,
      "outputs": [
        {
          "output_type": "stream",
          "text": [
            "sample_data\n"
          ],
          "name": "stdout"
        }
      ]
    },
    {
      "cell_type": "markdown",
      "metadata": {
        "id": "JDbCoUEri3Xh",
        "colab_type": "text"
      },
      "source": [
        "See, both methods give the same output.\n",
        "\n",
        "----\n",
        "# Use Your Stock Ticker\n",
        "Lets take a moment appreciate the amazing code provided on github.\n",
        "\n",
        "From his github README, here are the instructions on how to use `ticker.sh`:\n",
        "\n",
        "```sh\n",
        "# Single symbol:\n",
        "$ ./ticker.sh AAPL\n",
        "\n",
        "# Multiple symbols:\n",
        "$ ./ticker.sh AAPL MSFT GOOG BTC-USD\n",
        "\n",
        "# Read from file:\n",
        "$ echo \"AAPL MSFT GOOG BTC-USD\" > ~/.ticker.conf\n",
        "$ ./ticker.sh $(cat ~/.ticker.conf)\n",
        "\n",
        "# Use different colors:\n",
        "$ COLOR_BOLD=\"\\e[38;5;248m\" \\\n",
        "  COLOR_GREEN=\"\\e[38;5;154m\" \\\n",
        "  COLOR_RED=\"\\e[38;5;202m\" \\\n",
        "  ./ticker.sh AAPL\n",
        "\n",
        "# Disable colors:\n",
        "$ NO_COLOR=1 ./ticker.sh AAPL\n",
        "\n",
        "# Update every five seconds:\n",
        "$ watch -n 5 -t -c ./ticker.sh AAPL MSFT GOOG BTC-USD\n",
        "# Or if `watch` is not available:\n",
        "$ while true; do clear; ./ticker.sh AAPL MSFT GOOG BTC-USD; sleep 5; done\n",
        "```"
      ]
    },
    {
      "cell_type": "markdown",
      "metadata": {
        "id": "04TNCvv-G2UX",
        "colab_type": "text"
      },
      "source": [
        "The infinite while loop below is the ideal way to run our code from command line, but the clear function fails in colab.  As you can see, the outputs just ammend to the bottom and its harder to read.\n",
        "<br>\n",
        "Installing clear is an option, but both `apt-get` and `pip` commands fail\n",
        "```\n",
        "apt-get install clear\n",
        "pip install clear\n",
        "```"
      ]
    },
    {
      "cell_type": "code",
      "metadata": {
        "id": "8YkPhsE1i2Yw",
        "colab_type": "code",
        "outputId": "2180c6f1-981f-4336-8774-88def20f66f1",
        "colab": {
          "base_uri": "https://localhost:8080/",
          "height": 243
        }
      },
      "source": [
        "# Uncomment line below if you want to watch `clear` fail - it just prints the letter 'H'\n",
        "#!while true; do clear; ./ticker.sh AAPL MSFT GOOG BTC-USD; sleep 5; done"
      ],
      "execution_count": 2,
      "outputs": [
        {
          "output_type": "stream",
          "text": [
            "\u001b[H\u001b[2JAAPL      \u001b[1;37m  336.70\u001b[00m\u001b[32m      0.80     (0.24%)\u001b[00m *\n",
            "MSFT      \u001b[1;37m  186.66\u001b[00m\u001b[32m      0.39     (0.21%)\u001b[00m *\n",
            "GOOG      \u001b[1;37m 1406.60\u001b[00m\u001b[32m      2.76     (0.20%)\u001b[00m *\n",
            "BTC-USD   \u001b[1;37m 9303.27\u001b[00m\u001b[31m   -567.14    (-5.75%)\u001b[00m \n",
            "\u001b[H\u001b[2JAAPL      \u001b[1;37m  336.70\u001b[00m\u001b[32m      0.80     (0.24%)\u001b[00m *\n",
            "MSFT      \u001b[1;37m  186.66\u001b[00m\u001b[32m      0.39     (0.21%)\u001b[00m *\n",
            "GOOG      \u001b[1;37m 1406.60\u001b[00m\u001b[32m      2.76     (0.20%)\u001b[00m *\n",
            "BTC-USD   \u001b[1;37m 9303.27\u001b[00m\u001b[31m   -567.14    (-5.75%)\u001b[00m \n",
            "\u001b[H\u001b[2JAAPL      \u001b[1;37m  336.70\u001b[00m\u001b[32m      0.80     (0.24%)\u001b[00m *\n",
            "MSFT      \u001b[1;37m  186.66\u001b[00m\u001b[32m      0.39     (0.21%)\u001b[00m *\n",
            "GOOG      \u001b[1;37m 1406.60\u001b[00m\u001b[32m      2.76     (0.20%)\u001b[00m *\n",
            "BTC-USD   \u001b[1;37m 9306.64\u001b[00m\u001b[31m   -563.77    (-5.71%)\u001b[00m \n",
            "^C\n"
          ],
          "name": "stdout"
        }
      ]
    },
    {
      "cell_type": "markdown",
      "metadata": {
        "id": "hgPCgw2BIy0T",
        "colab_type": "text"
      },
      "source": [
        "Rather than wasting time tracing this issue, lets just integrate python and bash.  Using `os.kill` won't work, since it kill a process and all we want to do is clear it."
      ]
    },
    {
      "cell_type": "code",
      "metadata": {
        "id": "3fnH1eIbkDcN",
        "colab_type": "code",
        "outputId": "ce1697fa-f834-49ad-cbd1-2624fc2f135b",
        "colab": {
          "base_uri": "https://localhost:8080/",
          "height": 34
        }
      },
      "source": [
        "import os\n",
        "while 1==1:\n",
        "  !./ticker.sh AAPL \n",
        "  !sleep 2\n",
        "  os.kill(os.getpid(), 9)\n",
        "print(os.getpid())"
      ],
      "execution_count": 0,
      "outputs": [
        {
          "output_type": "stream",
          "text": [
            "AAPL      \u001b[1;37m  351.00\u001b[00m\u001b[31m     -1.84    (-0.52%)\u001b[00m *\n"
          ],
          "name": "stdout"
        }
      ]
    },
    {
      "cell_type": "markdown",
      "metadata": {
        "id": "4dMsVNf1JHVq",
        "colab_type": "text"
      },
      "source": [
        "If we use `IPython.display.clear_output`, it finally works.  Using the code below will give you a stock ticker that clears and re-retrieves the data every 2 seconds."
      ]
    },
    {
      "cell_type": "code",
      "metadata": {
        "id": "t5GLM2SFkZpv",
        "colab_type": "code",
        "outputId": "5cdbca37-a2c5-44ef-d693-11831836659c",
        "colab": {
          "base_uri": "https://localhost:8080/",
          "height": 35
        }
      },
      "source": [
        "from IPython.display import clear_output\n",
        "while 1==1:\n",
        "  !./ticker.sh AAPL\n",
        "  !sleep 2\n",
        "  clear_output()\n"
      ],
      "execution_count": 0,
      "outputs": [
        {
          "output_type": "stream",
          "text": [
            "AAPL      \u001b[1;37m  336.80\u001b[00m\u001b[32m      0.90     (0.27%)\u001b[00m *\n"
          ],
          "name": "stdout"
        }
      ]
    },
    {
      "cell_type": "markdown",
      "metadata": {
        "id": "hGlUw5RpJv07",
        "colab_type": "text"
      },
      "source": [
        "Now all you have to do is change the Apple stock symbol (AAPL) to one you want.  You can enter multiple symbols.  You can also adjust the reset time.  Above, we had our ticker show the results for AAPL every two second.  Below we replace AAPL with seven other companies and increase the reset time to 5 seconds.\n",
        "<br>\n",
        "If 5 seconds isn't long enough, we can easily increase it, but note that a stocks data doesn't refresh every 5s exactly.  You have to factor in the time it takes to retrieve the data.  The more stocks you look at, the longer the delay.\n",
        "<br>\n",
        "The only other change we made was to print the date and time.  This is useful for checking the accuracy of our data/code."
      ]
    },
    {
      "cell_type": "code",
      "metadata": {
        "id": "AyZZ0KeP4oay",
        "colab_type": "code",
        "outputId": "1cf38c64-a60f-4dbc-b8a9-0d5020897ed0",
        "colab": {
          "base_uri": "https://localhost:8080/",
          "height": 156
        }
      },
      "source": [
        "from IPython.display import clear_output\n",
        "while 1==1:\n",
        "  !date\n",
        "  !./ticker.sh KOS GNUS VRM HLX NKLA DGLY BIOL\n",
        "  !sleep 5\n",
        "  clear_output()"
      ],
      "execution_count": 0,
      "outputs": [
        {
          "output_type": "stream",
          "text": [
            "Thu Jun 11 20:55:43 UTC 2020\n",
            "KOS       \u001b[1;37m    2.00\u001b[00m\u001b[32m      0.06     (3.09%)\u001b[00m *\n",
            "GNUS      \u001b[1;37m    3.19\u001b[00m\u001b[31m     -0.26    (-7.54%)\u001b[00m *\n",
            "VRM       \u001b[1;37m   44.85\u001b[00m\u001b[31m     -0.75    (-1.64%)\u001b[00m *\n",
            "HLX       \u001b[1;37m    3.64\u001b[00m\u001b[32m      0.03     (0.83%)\u001b[00m *\n",
            "NKLA      \u001b[1;37m   59.26\u001b[00m\u001b[31m     -1.24    (-2.05%)\u001b[00m *\n",
            "DGLY      \u001b[1;37m    4.18\u001b[00m\u001b[32m      0.03     (0.73%)\u001b[00m *\n",
            "BIOL      \u001b[1;37m    0.49\u001b[00m\u001b[31m     -0.02    (-4.35%)\u001b[00m *\n"
          ],
          "name": "stdout"
        }
      ]
    }
  ]
}