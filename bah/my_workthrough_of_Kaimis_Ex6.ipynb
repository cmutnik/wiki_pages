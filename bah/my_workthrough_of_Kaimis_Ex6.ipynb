{
  "nbformat": 4,
  "nbformat_minor": 0,
  "metadata": {
    "colab": {
      "name": "Copy of Kaimis E6 \"2019-12-07-E6\".ipynb",
      "provenance": [],
      "collapsed_sections": []
    },
    "kernelspec": {
      "name": "python3",
      "display_name": "Python 3"
    }
  },
  "cells": [
    {
      "cell_type": "markdown",
      "metadata": {
        "id": "QfnIsP4SNrfI",
        "colab_type": "text"
      },
      "source": [
        "## Exercise #6: Do it Again, all by Yourself!\n",
        "\n",
        "**Description:** Utilize your choice of model to distinguish different types of flowers from crude measurements.\n",
        "\n",
        "**Duration:** As long as you need."
      ]
    },
    {
      "cell_type": "code",
      "metadata": {
        "id": "du47A0oc1y-X",
        "colab_type": "code",
        "colab": {}
      },
      "source": [
        "import numpy as np\n",
        "import matplotlib.pyplot as plt\n",
        "plt.style.use(\"ggplot\")"
      ],
      "execution_count": 0,
      "outputs": []
    },
    {
      "cell_type": "markdown",
      "metadata": {
        "id": "TwHg3TUiheSU",
        "colab_type": "text"
      },
      "source": [
        "## Retrieving the Data\n",
        "\n",
        "This example is so common that `sklearn` provides a piece of this dataset inside of the library for you to train against. To access it, any many other data sets, we use `sklearn.datasets`."
      ]
    },
    {
      "cell_type": "code",
      "metadata": {
        "id": "EkOveKlMhnZx",
        "colab_type": "code",
        "colab": {}
      },
      "source": [
        "from sklearn.datasets import load_iris\n",
        "iris = load_iris()"
      ],
      "execution_count": 0,
      "outputs": []
    },
    {
      "cell_type": "code",
      "metadata": {
        "id": "hqw3GyufdrRC",
        "colab_type": "code",
        "outputId": "02b067dd-12a0-4a3e-8e1d-97e684c19aac",
        "colab": {
          "base_uri": "https://localhost:8080/",
          "height": 35
        }
      },
      "source": [
        "print(f\"Types of Flowers:  {iris.target_names}\")"
      ],
      "execution_count": 0,
      "outputs": [
        {
          "output_type": "stream",
          "text": [
            "Types of Flowers:  ['setosa' 'versicolor' 'virginica']\n"
          ],
          "name": "stdout"
        }
      ]
    },
    {
      "cell_type": "markdown",
      "metadata": {
        "id": "5pA6RmXJs3VO",
        "colab_type": "text"
      },
      "source": [
        "To see what's in the iris dataset, create some visuals, display some metrics, and take a look at the docs [HERE](https://scikit-learn.org/stable/datasets/index.html#iris-plants-dataset).\n",
        "\n",
        "\n",
        "This was just to get you started, you have everything you need to take it from here!\n",
        "\n",
        "_Optional_: Also look into data preprocessing and compare the impact on performance, if any. Starting [HERE](https://scikit-learn.org/stable/modules/generated/sklearn.preprocessing.StandardScaler.html) is a good idea."
      ]
    },
    {
      "cell_type": "markdown",
      "metadata": {
        "colab_type": "text",
        "id": "zQrycpCDkWoe"
      },
      "source": [
        "**Main take away:** Get familiar with the `sklearn` framework, the whole training process, and training a classifier to recognize flowers.\n",
        "\n"
      ]
    },
    {
      "cell_type": "code",
      "metadata": {
        "id": "fJIX2EMSFXbG",
        "colab_type": "code",
        "colab": {}
      },
      "source": [
        "# split the data into training and test sets\n",
        "from sklearn.model_selection import train_test_split\n",
        "\n",
        "#x_train, x_test, y_train, y_test = train_test_split(iris.data, iris.target, random_state=0)\n",
        "x_train, x_test, y_train, y_test = train_test_split(iris.data, iris.target, test_size=0.5)"
      ],
      "execution_count": 0,
      "outputs": []
    },
    {
      "cell_type": "code",
      "metadata": {
        "id": "R87yKZ0vFaWs",
        "colab_type": "code",
        "colab": {}
      },
      "source": [
        "# choose which model we wanna use and run it on the data\n",
        "from sklearn.linear_model import LinearRegression, LogisticRegression"
      ],
      "execution_count": 0,
      "outputs": []
    },
    {
      "cell_type": "code",
      "metadata": {
        "id": "ncDecOVbkngb",
        "colab_type": "code",
        "outputId": "8bc51c21-36c2-46d1-f1c3-724e5cfae4c4",
        "colab": {
          "base_uri": "https://localhost:8080/",
          "height": 105
        }
      },
      "source": [
        "# start training model\n",
        "#clf = LinearRegression()\n",
        "clf = LogisticRegression()\n",
        "# fit out data\n",
        "clf.fit(x_train, y_train)"
      ],
      "execution_count": 0,
      "outputs": [
        {
          "output_type": "execute_result",
          "data": {
            "text/plain": [
              "LogisticRegression(C=1.0, class_weight=None, dual=False, fit_intercept=True,\n",
              "                   intercept_scaling=1, l1_ratio=None, max_iter=100,\n",
              "                   multi_class='auto', n_jobs=None, penalty='l2',\n",
              "                   random_state=None, solver='lbfgs', tol=0.0001, verbose=0,\n",
              "                   warm_start=False)"
            ]
          },
          "metadata": {
            "tags": []
          },
          "execution_count": 183
        }
      ]
    },
    {
      "cell_type": "code",
      "metadata": {
        "id": "PrglPG17sJ1a",
        "colab_type": "code",
        "outputId": "676f7d1d-0e4c-4d75-8253-0889d860f35a",
        "colab": {
          "base_uri": "https://localhost:8080/",
          "height": 35
        }
      },
      "source": [
        "clf.predict(x_test[0].reshape(1,-1))"
      ],
      "execution_count": 0,
      "outputs": [
        {
          "output_type": "execute_result",
          "data": {
            "text/plain": [
              "array([0])"
            ]
          },
          "metadata": {
            "tags": []
          },
          "execution_count": 184
        }
      ]
    },
    {
      "cell_type": "code",
      "metadata": {
        "id": "uPccTd3PnSNB",
        "colab_type": "code",
        "outputId": "fdb117b4-9143-4930-e361-915b623e35fa",
        "colab": {
          "base_uri": "https://localhost:8080/",
          "height": 35
        }
      },
      "source": [
        "# using test data - check predictions made by model\n",
        "clf.predict(x_test[0:10])"
      ],
      "execution_count": 0,
      "outputs": [
        {
          "output_type": "execute_result",
          "data": {
            "text/plain": [
              "array([0, 0, 0, 1, 1, 2, 2, 2, 1, 0])"
            ]
          },
          "metadata": {
            "tags": []
          },
          "execution_count": 185
        }
      ]
    },
    {
      "cell_type": "code",
      "metadata": {
        "id": "go7XNAvXnbGd",
        "colab_type": "code",
        "colab": {}
      },
      "source": [
        "# save the predictions made by our model\n",
        "predictions = clf.predict(x_test)"
      ],
      "execution_count": 0,
      "outputs": []
    },
    {
      "cell_type": "code",
      "metadata": {
        "id": "d0BqUH7SnkrM",
        "colab_type": "code",
        "outputId": "93da12b7-05ed-4932-a995-6a74aa10270a",
        "colab": {
          "base_uri": "https://localhost:8080/",
          "height": 35
        }
      },
      "source": [
        "# check the fractional percentage that our models gets correct\n",
        "score = clf.score(x_test, y_test)\n",
        "print(\"Accuracy: %.2f\" % score)#>> Accuracy: 0.95"
      ],
      "execution_count": 0,
      "outputs": [
        {
          "output_type": "stream",
          "text": [
            "Accuracy: 0.92\n"
          ],
          "name": "stdout"
        }
      ]
    },
    {
      "cell_type": "code",
      "metadata": {
        "id": "7skgQt2xs3bK",
        "colab_type": "code",
        "outputId": "2c6b1162-f259-48ac-f1fc-d2456f455b7d",
        "colab": {
          "base_uri": "https://localhost:8080/",
          "height": 160
        }
      },
      "source": [
        "print(\"y_test: \", y_test)\n",
        "print()\n",
        "print(\"predictions: \", predictions)"
      ],
      "execution_count": 0,
      "outputs": [
        {
          "output_type": "stream",
          "text": [
            "y_test:  [0 0 0 1 1 2 1 2 1 0 1 1 1 0 1 2 1 2 1 1 0 0 2 2 2 1 0 1 2 1 0 2 2 1 0 2 0\n",
            " 1 0 1 2 2 1 2 2 0 2 0 1 1 1 2 1 2 1 1 2 0 2 2 1 2 1 0 1 2 1 0 1 2 1 1 2 2\n",
            " 2]\n",
            "\n",
            "predictions:  [0 0 0 1 1 2 2 2 1 0 1 1 1 0 1 2 1 2 1 1 0 0 2 2 2 1 0 1 2 1 0 2 2 1 0 1 0\n",
            " 1 0 1 2 2 2 2 2 0 2 0 2 2 1 2 1 2 1 1 2 0 2 2 2 2 1 0 1 2 1 0 1 2 1 1 2 2\n",
            " 2]\n"
          ],
          "name": "stdout"
        }
      ]
    },
    {
      "cell_type": "code",
      "metadata": {
        "id": "u30MWVkboDJ3",
        "colab_type": "code",
        "outputId": "39cad095-c753-43f0-fb66-1ef13a50f904",
        "colab": {
          "base_uri": "https://localhost:8080/",
          "height": 707
        }
      },
      "source": [
        "from sklearn.metrics import confusion_matrix\n",
        "cm = confusion_matrix(y_test, predictions)\n",
        "\n",
        "plt.clf()\n",
        "fig = plt.figure(figsize=(12, 12))\n",
        "ax = plt.gca()\n",
        "\n",
        "cax = ax.matshow(cm)\n",
        "fig.colorbar(cax)\n",
        "for i in range(cm.shape[0]):\n",
        "    for j in range(cm.shape[1]):\n",
        "        text = ax.text(j, i, cm[i, j], \n",
        "                        ha=\"center\", va=\"center\", \n",
        "                        color=\"w\", size=30)\n",
        "plt.ylabel(\"True Label\")\n",
        "plt.xlabel(\"Predicted Label\")\n",
        "plt.title(\"Model: \" + type(clf).__name__ + \" Performance (Test Data)\")\n",
        "plt.grid()\n",
        "plt.show()\n"
      ],
      "execution_count": 0,
      "outputs": [
        {
          "output_type": "display_data",
          "data": {
            "text/plain": [
              "<Figure size 432x288 with 0 Axes>"
            ]
          },
          "metadata": {
            "tags": []
          }
        },
        {
          "output_type": "display_data",
          "data": {
            "image/png": "[encoded data removed]",
            "text/plain": [
              "<Figure size 864x864 with 2 Axes>"
            ]
          },
          "metadata": {
            "tags": []
          }
        }
      ]
    },
    {
      "cell_type": "code",
      "metadata": {
        "id": "m-XO0j2poUPk",
        "colab_type": "code",
        "colab": {}
      },
      "source": [
        ""
      ],
      "execution_count": 0,
      "outputs": []
    },
    {
      "cell_type": "code",
      "metadata": {
        "id": "XpxFVfVhpXHF",
        "colab_type": "code",
        "colab": {}
      },
      "source": [
        ""
      ],
      "execution_count": 0,
      "outputs": []
    },
    {
      "cell_type": "code",
      "metadata": {
        "id": "GtboThqbsrKk",
        "colab_type": "code",
        "colab": {}
      },
      "source": [
        ""
      ],
      "execution_count": 0,
      "outputs": []
    },
    {
      "cell_type": "code",
      "metadata": {
        "id": "99PKwuoIrQss",
        "colab_type": "code",
        "outputId": "5ececa7f-0c06-484d-9875-777061bf0a5a",
        "colab": {
          "base_uri": "https://localhost:8080/",
          "height": 1000
        }
      },
      "source": [
        "from sklearn.model_selection import train_test_split\n",
        "from sklearn.linear_model import LogisticRegression\n",
        "#from sklearn.datasets import load_digits\n",
        "import matplotlib.pyplot as plt\n",
        "import numpy as np\n",
        "\n",
        "# set matplotlib style\n",
        "plt.style.use(\"ggplot\")\n",
        "\n",
        "# load the data\n",
        "#digits = load_digits()\n",
        "from sklearn.datasets import load_iris\n",
        "digits = load_iris()\n",
        "\n",
        "# split data into test and train sets\n",
        "x_train, x_test, y_train, y_test = train_test_split(digits.data, digits.target, test_size=0.5)\n",
        "\n",
        "# Specifying no hyperparameters in this example\n",
        "clf = LogisticRegression()\n",
        "\n",
        "# have model fit the data\n",
        "clf.fit(x_train, y_train)\n",
        "\n",
        "# use model to predict labels for new data (test data)\n",
        "clf.predict(x_test[0].reshape(1,-1))\n",
        "\n",
        "# predict multiple images at once\n",
        "clf.predict(x_test[0:10])\n",
        "\n",
        "# save the predictions\n",
        "predictions = clf.predict(x_test)\n",
        "\n",
        "# check the fractional percentage that our models gets correct\n",
        "score = clf.score(x_test, y_test)\n",
        "\n",
        "print(\"Accuracy: %.2f\" % score)#>> Accuracy: 0.95\n",
        "print(\"y_test: \", y_test)\n",
        "print()\n",
        "print(\"predictions: \", predictions)\n",
        "\n",
        "def plot_confusionMTX(save_plots=True):\n",
        "    \"\"\" Use a confusion matrix to see where model failed \"\"\"\n",
        "    from sklearn.metrics import confusion_matrix\n",
        "    cm = confusion_matrix(y_test, predictions)\n",
        "\n",
        "    plt.clf()\n",
        "    fig = plt.figure(figsize=(12, 12))\n",
        "    ax = plt.gca()\n",
        "\n",
        "    cax = ax.matshow(cm)\n",
        "    fig.colorbar(cax)\n",
        "    for i in range(cm.shape[0]):\n",
        "        for j in range(cm.shape[1]):\n",
        "            text = ax.text(j, i, cm[i, j], \n",
        "                            ha=\"center\", va=\"center\", \n",
        "                            color=\"w\", size=30)\n",
        "    plt.ylabel(\"True Label\")\n",
        "    plt.xlabel(\"Predicted Label\")\n",
        "    plt.title(\"Model: \" + type(clf).__name__ + \" Performance (Test Data)\")\n",
        "    plt.grid()\n",
        "    if save_plots == True:\n",
        "        plt.savefig('confusion_matrix.png')\n",
        "    else:\n",
        "        plt.show()\n",
        "plot_confusionMTX(save_plots=False)\n",
        "\n",
        "\n"
      ],
      "execution_count": 0,
      "outputs": [
        {
          "output_type": "stream",
          "text": [
            "Accuracy: 0.97\n",
            "y_test:  [2 0 0 1 1 0 2 1 2 0 2 2 2 2 2 0 1 1 2 2 0 0 1 0 1 1 2 2 0 0 1 2 1 1 1 2 0\n",
            " 0 0 2 2 0 2 2 2 2 0 2 2 1 1 2 0 1 1 2 1 0 1 1 1 1 0 0 0 1 1 0 1 0 0 1 1 1\n",
            " 0]\n",
            "\n",
            "predictions:  [2 0 0 1 1 0 2 1 2 0 2 2 2 2 2 0 1 1 2 2 0 0 2 0 1 1 2 2 0 0 1 2 1 1 1 2 0\n",
            " 0 0 2 2 0 2 2 2 2 0 2 2 1 1 2 0 1 1 2 1 0 1 1 1 1 0 0 0 1 1 0 1 0 0 1 1 2\n",
            " 0]\n"
          ],
          "name": "stdout"
        },
        {
          "output_type": "stream",
          "text": [
            "/usr/local/lib/python3.6/dist-packages/sklearn/linear_model/_logistic.py:940: ConvergenceWarning: lbfgs failed to converge (status=1):\n",
            "STOP: TOTAL NO. of ITERATIONS REACHED LIMIT.\n",
            "\n",
            "Increase the number of iterations (max_iter) or scale the data as shown in:\n",
            "    https://scikit-learn.org/stable/modules/preprocessing.html\n",
            "Please also refer to the documentation for alternative solver options:\n",
            "    https://scikit-learn.org/stable/modules/linear_model.html#logistic-regression\n",
            "  extra_warning_msg=_LOGISTIC_SOLVER_CONVERGENCE_MSG)\n"
          ],
          "name": "stderr"
        },
        {
          "output_type": "display_data",
          "data": {
            "text/plain": [
              "<Figure size 432x288 with 0 Axes>"
            ]
          },
          "metadata": {
            "tags": []
          }
        },
        {
          "output_type": "display_data",
          "data": {
            "image/png": "[encoded data removed]",
            "text/plain": [
              "<Figure size 864x864 with 2 Axes>"
            ]
          },
          "metadata": {
            "tags": []
          }
        }
      ]
    },
    {
      "cell_type": "code",
      "metadata": {
        "id": "2dYIj5_yrflw",
        "colab_type": "code",
        "colab": {}
      },
      "source": [
        ""
      ],
      "execution_count": 0,
      "outputs": []
    },
    {
      "cell_type": "code",
      "metadata": {
        "id": "1V_Ip5_6ttBg",
        "colab_type": "code",
        "colab": {}
      },
      "source": [
        ""
      ],
      "execution_count": 0,
      "outputs": []
    },
    {
      "cell_type": "code",
      "metadata": {
        "id": "-YmqpQWFts27",
        "colab_type": "code",
        "colab": {}
      },
      "source": [
        ""
      ],
      "execution_count": 0,
      "outputs": []
    },
    {
      "cell_type": "code",
      "metadata": {
        "id": "jZjxhPXCttnr",
        "colab_type": "code",
        "colab": {}
      },
      "source": [
        ""
      ],
      "execution_count": 0,
      "outputs": []
    }
  ]
}