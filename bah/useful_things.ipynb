{
  "nbformat": 4,
  "nbformat_minor": 0,
  "metadata": {
    "colab": {
      "name": "useful_things.ipynb",
      "provenance": [],
      "collapsed_sections": []
    },
    "kernelspec": {
      "name": "python3",
      "display_name": "Python 3"
    }
  },
  "cells": [
    {
      "cell_type": "markdown",
      "metadata": {
        "id": "lOYWM27188tl",
        "colab_type": "text"
      },
      "source": [
        "# **Useful Things**\n",
        "----\n",
        "----\n",
        "This page is meant to be a resource for extraneous information that doesn't merit a full notebook, but should still be noted.  \n",
        "\n",
        "Usually a new section is denoted by one horizontal line (in my wiki pages).  One this page, different categories will be separated by two lines.  One horizontal line will be used to separate subsections within an overall topic."
      ]
    },
    {
      "cell_type": "markdown",
      "metadata": {
        "id": "skg_KMsB8ICG",
        "colab_type": "text"
      },
      "source": [
        "----\n",
        "----\n",
        "## **Bash / Shell Scripting**\n",
        "This section is dedicated to useful bash shell tricks and commands. \n",
        "\n",
        "----\n",
        "### Make Files Using Bash Shell\n",
        "You can make an empty file \"foo.py\" with the command: `touch foo.py`\n",
        "<br>\n",
        "To make a file with contents, you can use echo.  This will create the file listed on the right and add the specified line to this file:\n",
        "```\n",
        "echo \"Text to go in file\" > foo.txt\n",
        "```\n",
        "Using echo means you have to add each line manually.  This is tedious, so we would rather use the following method:\n",
        "```\n",
        "cat > /tmp/foo.txt <<EOF\n",
        " rd 1 /tmp/cover.fits silent\n",
        "tv 1 cf=jt 0.1 8 jpeg=/tmp/cover.$filt.jpg\n",
        "q\n",
        "EOF\n",
        "```\n",
        "The three middle lines are written to the file \"/tmp/foo.txt\"\n",
        "\n",
        "The issue with the last method is that variables are substituted into the file.  ie if `$foo` is a variable that hasnt been set, then the file `foo.sh` will be empty, if you use this: \n",
        "```\n",
        "cat <<EOF > foo.sh\n",
        "$foo\n",
        "EOF\n",
        "unset foo\n",
        "```\n",
        "You either need to set variable names or use an escape character:\n",
        "- Escape character method\n",
        "```\n",
        "cat <<EOF > foo.sh\n",
        "\\$foo\n",
        "EOF\n",
        "```\n",
        "- Setting variables\n",
        "```\n",
        "foo='$foo'\n",
        "cat <<EOF > foo.sh\n",
        "$foo\n",
        "EOF\n",
        "unset foo\n",
        "```\n",
        "\n",
        "----\n",
        "### Commenting\n",
        "When shell scripting, one line comments start with a single ```#```.  There are various ways to block comment.\n",
        "```\n",
        "#!/bin/bash\n",
        "\n",
        "###\n",
        "# Method 1\n",
        "###\n",
        "echo \"*** Before comment block 1***\"\n",
        ":`\n",
        "echo \"Anything between these markers will not executed, but\"\n",
        "echo \"this block comment method sucks.\"\n",
        "echo \"It is rife with issues\"\n",
        "`\n",
        "echo \"*** After comments block 1***\"\n",
        "\n",
        "###\n",
        "# Method 2\n",
        "###\n",
        "echo \"*** Before comment block 2***\"\n",
        "if [ 1 -eq 0 ]; then\n",
        "for i in {1..5}\n",
        "do\n",
        "   echo \"Welcome $i times\"\n",
        "done\n",
        "fi\n",
        "echo \"*** After comments block 2***\"\n",
        "\n",
        "###\n",
        "# Method 3\n",
        "###\n",
        "echo \"*** Before comment block 3***\"\n",
        "<<COMMENT1\n",
        "Anything typed here will not be executed.  \n",
        "It will also change color, to signify it has \n",
        "been commented out. To end this block comment \n",
        "use the line below\n",
        "COMMENT1\n",
        "echo \"*** After comments block 3***\"\n",
        "\n",
        "###\n",
        "# Method 4\n",
        "###\n",
        "echo \"*** Before comment block 4***\"\n",
        ": <<'EOF'\n",
        "CODE block starts\n",
        "CODE block ends here\n",
        "EOF\n",
        "echo \"*** After comments block 4***\"\n",
        "```\n",
        "The most clever way is \"Method 2.\"  A conditional that fails will not execute anything inside it, so it acts as a block comment.  The only downside to this method is that the code will not change to a commented out color.  So, at a quick glance, it will still look like executable code.\n",
        "\n",
        "\n",
        "----\n",
        "### Running Scripts\n",
        "Before you can execute a script from the command line, it need the proper permissions.\n",
        "```\n",
        "# change permissions of 'file2change.sh'\n",
        "chmod a+x file2change.sh\n",
        "\n",
        "# run 'file2change.sh'\n",
        "./file2change.sh\n",
        "```\n",
        "\n",
        "\n",
        "----\n",
        "### Loops\n",
        "There are tons of ways to write loops.  Heres a couple:\n",
        "```\n",
        "#!/bin/bash\n",
        "for i in {1..5}; do\n",
        "   echo \"Welcome $i times\"\n",
        "done\n",
        "\n",
        "for i in 1 2 3 4 5\n",
        "do\n",
        "   echo \"$i  more times\"\n",
        "done\n",
        "\n",
        "```\n",
        "Only loop over ODD numbers (this is for older versions of bash):\n",
        "```\n",
        "for i in $(seq -w 01 02 40); do\n",
        "   echo $i\n",
        "done\n",
        "```\n",
        "\n",
        "----\n",
        "## Tools\n",
        "\n",
        "### Grep\n",
        "Docker runs at startup, even when told not to.  To check if docker is running on this machine: list everything `launchctl` and search that list with `grep`\n",
        "```\n",
        "launchctl list | grep -i Docker\n",
        "```\n",
        "`-i` isnt needed in this specific example, but it removes case sensitivity in grep, so its useful in general.\n",
        "\n"
      ]
    },
    {
      "cell_type": "markdown",
      "metadata": {
        "id": "vozXC9llqBPV",
        "colab_type": "text"
      },
      "source": [
        "----\n",
        "----\n",
        "## **Notebook Features**\n",
        "\n",
        "### Entering HTML\n",
        "\n",
        "If you designate blocks of code as HTML:"
      ]
    },
    {
      "cell_type": "code",
      "metadata": {
        "id": "L7N5T8gBqRzR",
        "colab_type": "code",
        "outputId": "e18f92dc-778d-4c34-d84f-20eec6d48708",
        "colab": {
          "base_uri": "https://localhost:8080/",
          "height": 38
        }
      },
      "source": [
        "%%html\n",
        "<marquee style='width: 30%; color: blue;'><b>Whee!</b></marquee>"
      ],
      "execution_count": 0,
      "outputs": [
        {
          "output_type": "display_data",
          "data": {
            "text/html": [
              "<marquee style='width: 30%; color: blue;'><b>Whee!</b></marquee>"
            ],
            "text/plain": [
              "<IPython.core.display.HTML object>"
            ]
          },
          "metadata": {
            "tags": []
          }
        }
      ]
    },
    {
      "cell_type": "code",
      "metadata": {
        "id": "uBj23gWuql1R",
        "colab_type": "code",
        "outputId": "ccb2e528-41aa-4ec7-cc01-f82b26b9f4d5",
        "colab": {
          "base_uri": "https://localhost:8080/",
          "height": 221
        }
      },
      "source": [
        "%%html\n",
        "<svg xmlns=\"http://www.w3.org/2000/svg\" viewBox=\"0 0 450 400\" width=\"200\" height=\"200\">\n",
        "  <rect x=\"80\" y=\"60\" width=\"250\" height=\"250\" rx=\"20\" style=\"fill:red; stroke:black; fill-opacity:0.7\" />\n",
        "  <rect x=\"180\" y=\"110\" width=\"250\" height=\"250\" rx=\"40\" style=\"fill:blue; stroke:black; fill-opacity:0.5;\" />\n",
        "</svg>"
      ],
      "execution_count": 0,
      "outputs": [
        {
          "output_type": "display_data",
          "data": {
            "text/html": [
              "<svg xmlns=\"http://www.w3.org/2000/svg\" viewBox=\"0 0 450 400\" width=\"200\" height=\"200\">\n",
              "  <rect x=\"80\" y=\"60\" width=\"250\" height=\"250\" rx=\"20\" style=\"fill:red; stroke:black; fill-opacity:0.7\" />\n",
              "  <rect x=\"180\" y=\"110\" width=\"250\" height=\"250\" rx=\"40\" style=\"fill:blue; stroke:black; fill-opacity:0.5;\" />\n",
              "</svg>"
            ],
            "text/plain": [
              "<IPython.core.display.HTML object>"
            ]
          },
          "metadata": {
            "tags": []
          }
        }
      ]
    },
    {
      "cell_type": "markdown",
      "metadata": {
        "id": "5Du-k7eDetSq",
        "colab_type": "text"
      },
      "source": [
        "### Images\n",
        "This is how you can add images to your google colab notebooks.  Online tutorials tell you to:\n",
        "1. add images to google drive\n",
        "2. make a shared link to the image \n",
        "3. click the image tab on google colab to get `![alt text](https://)` and paste the link in place of the URL\n",
        "```\n",
        "![alt text](https://drive.google.com/open?id=12nOrBHzKHP5RQ-W19tVseBXxiSvOHMam)\n",
        "```\n",
        "4. then change \"open\" to \"uc\"\n",
        "```\n",
        "![alt text](https://drive.google.com/uc?id=12nOrBHzKHP5RQ-W19tVseBXxiSvOHMam)\n",
        "```\n",
        "\n",
        "The easiest way to add images to google colab notebook is by adding them to github or using an HTML code block.  \n",
        "\n",
        "\n",
        "### Github Images\n",
        "This is how you use the URL of an image you added to github.  Doing this allows you to control image size better than the HTML method of adding images.\n",
        "![](https://github.com//cmutnik/wiki_pages/blob/master/bah/git_error1.jpg?raw=true)\n",
        "Either line, in the code block below, will show the image displayed above.\n",
        "1. To get the URL in the first line below, just pull the image up in github and inspect the html of the image you want to use.  Doing this will give you a relative link, with the text `?raw=true` at the end.  Turn this relative text into a github URL and past it into a notebook (with `?raw=true` at the end).\n",
        "2. The second line below uses a github URL for raw images.\n",
        "\n",
        "```\n",
        "# from github html inspection\n",
        "![](https://github.com//cmutnik/wiki_pages/blob/master/bah/git_error1.jpg?raw=true)\n",
        "\n",
        "# github raw url\n",
        "![](https://raw.githubusercontent.com/cmutnik/wiki_pages/master/bah/git_error1.jpg)\n",
        "```\n",
        "\n",
        "\n",
        "### HTML Images\n",
        "A more advanced example of this shown by the colored boxes, above.  The simplified version is shown below.  Follow these steps\n",
        "1. use a code block in google colab\n",
        "2. specify you want html used, by typing `%%html`\n",
        "3. add an iframe to html using"
      ]
    },
    {
      "cell_type": "code",
      "metadata": {
        "id": "keyz97VBf5VZ",
        "colab_type": "code",
        "outputId": "0f75d27d-d337-4e19-ec1f-3a5fe5a24cc8",
        "colab": {
          "base_uri": "https://localhost:8080/",
          "height": 505
        }
      },
      "source": [
        "%%html\n",
        "<iframe src=\"https://drive.google.com/uc?id=12nOrBHzKHP5RQ-W19tVseBXxiSvOHMam\" width=\"640\" height=\"480\"></iframe>\n",
        "\n",
        "<!--\n",
        "%%html\n",
        "-->\n",
        "<iframe src=\"https://drive.google.com/file/d/12nOrBHzKHP5RQ-W19tVseBXxiSvOHMam/preview\" width=\"640\" height=\"480\"></iframe>"
      ],
      "execution_count": 0,
      "outputs": [
        {
          "output_type": "display_data",
          "data": {
            "text/html": [
              "<iframe src=\"https://drive.google.com/uc?id=12nOrBHzKHP5RQ-W19tVseBXxiSvOHMam\" width=\"640\" height=\"480\"></iframe>\n",
              "\n",
              "<!--\n",
              "%%html\n",
              "-->\n",
              "<iframe src=\"https://drive.google.com/file/d/12nOrBHzKHP5RQ-W19tVseBXxiSvOHMam/preview\" width=\"640\" height=\"480\"></iframe>"
            ],
            "text/plain": [
              "<IPython.core.display.HTML object>"
            ]
          },
          "metadata": {
            "tags": []
          }
        }
      ]
    },
    {
      "cell_type": "markdown",
      "metadata": {
        "id": "skGjXVsB8_O5",
        "colab_type": "text"
      },
      "source": [
        "### Interactive Plotting in google.colab\n",
        "\n",
        "[Plotly cheatsheet](https://github.com/juanklopper/Plotly-for-python/blob/master/python_cheat_sheet.pdf)\n",
        "\n",
        "\n",
        "There are a lot of interacive plotting examples online, like [this one](https://colab.research.google.com/drive/1zufbtdWp_6R2ZQMqmOeCcT6toi6OBMyv#scrollTo=de-egeLbKf9H) that was provided [here](https://jeremybejarano.com/interactive-widget-demo.html)\n",
        "\n",
        "[Here](https://www.youtube.com/watch?v=F2pAu9PzgEE) is an explanation of how to integrate plotly into your google colab notebooks.  The code is on github, [here.](https://github.com/juanklopper/Plotly-for-python)\n",
        "\n",
        "Below, I have pulled interactive plot example from Kaimis 1st Example:\n",
        "\n"
      ]
    },
    {
      "cell_type": "code",
      "metadata": {
        "id": "CEulZVNuNV-r",
        "colab_type": "code",
        "colab": {}
      },
      "source": [
        "import numpy as np\n",
        "import matplotlib.pyplot as plt"
      ],
      "execution_count": 0,
      "outputs": []
    },
    {
      "cell_type": "code",
      "metadata": {
        "id": "b-m6gyM1NT8V",
        "colab_type": "code",
        "colab": {}
      },
      "source": [
        "#@title\n",
        "SLOPE_TRUE = np.random.uniform(-4, 4)\n",
        "INTERCEPT_TRUE = np.random.uniform(-4, 4)"
      ],
      "execution_count": 0,
      "outputs": []
    },
    {
      "cell_type": "code",
      "metadata": {
        "id": "eXJkWg1LNX3U",
        "colab_type": "code",
        "colab": {}
      },
      "source": [
        "x = np.arange(0, 10, 1)# measurements\n",
        "y_true = SLOPE_TRUE * x + INTERCEPT_TRUE# true mapping\n",
        "y_err = np.random.uniform(0.5, 1.0, size=x.size)# create noise\n",
        "y = np.random.normal(y_true, y_err)# add noise to data"
      ],
      "execution_count": 0,
      "outputs": []
    },
    {
      "cell_type": "code",
      "metadata": {
        "id": "lScpFFjT88Zn",
        "colab_type": "code",
        "colab": {}
      },
      "source": [
        "def plot_guess(SLOPE=1, INTERCEPT=1):\n",
        "    \"\"\"\n",
        "    Input your choice of slope and intercept, and observe how the line shifts\n",
        "    \"\"\"\n",
        "    fig = plt.figure(figsize=(16,9))\n",
        "    ax = plt.gca()\n",
        "    ax.plot(x, y, 'k.', ms=20, label=\"Measurements\")\n",
        "    ax.plot(x, y_true, 'b', label=\"True Mapping\")\n",
        "    y_guess = SLOPE * x + INTERCEPT\n",
        "    ax.plot(x, y_guess, 'r', \n",
        "            label=f\"Your Guess: $y=({SLOPE}) \\cdot x + ({INTERCEPT})$\")\n",
        "    plt.legend()\n",
        "    plt.show()"
      ],
      "execution_count": 0,
      "outputs": []
    },
    {
      "cell_type": "code",
      "metadata": {
        "id": "ri8zYJnb803m",
        "colab_type": "code",
        "colab": {}
      },
      "source": [
        "#@title Use the sliders to select your parameters\n",
        "YOUR_SLOPE = -5 #@param {type:\"slider\", min:-10, max:10, step:0.1}\n",
        "YOUR_INTERCEPT = 3.5 #@param {type:\"slider\", min:-10, max:10, step:0.1}"
      ],
      "execution_count": 0,
      "outputs": []
    },
    {
      "cell_type": "code",
      "metadata": {
        "id": "LoC9dvi4M74w",
        "colab_type": "code",
        "outputId": "b7893302-d1c8-427f-c73b-3f0242ef05ef",
        "colab": {
          "base_uri": "https://localhost:8080/",
          "height": 537
        }
      },
      "source": [
        "plot_guess(SLOPE=YOUR_SLOPE, INTERCEPT=YOUR_INTERCEPT)"
      ],
      "execution_count": 0,
      "outputs": [
        {
          "output_type": "display_data",
          "data": {
            "image/png": "[encoded data removed]",
            "text/plain": [
              "<Figure size 1152x648 with 1 Axes>"
            ]
          },
          "metadata": {
            "tags": [],
            "needs_background": "light"
          }
        }
      ]
    },
    {
      "cell_type": "code",
      "metadata": {
        "id": "BjPuAKuJiTrj",
        "colab_type": "code",
        "colab": {}
      },
      "source": [
        ""
      ],
      "execution_count": 0,
      "outputs": []
    }
  ]
}