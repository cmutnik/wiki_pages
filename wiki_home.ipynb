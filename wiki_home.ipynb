{
  "nbformat": 4,
  "nbformat_minor": 0,
  "metadata": {
    "colab": {
      "name": "wiki_home.ipynb",
      "provenance": [],
      "collapsed_sections": []
    },
    "kernelspec": {
      "name": "python3",
      "display_name": "Python 3"
    }
  },
  "cells": [
    {
      "cell_type": "markdown",
      "metadata": {
        "id": "VpGGSAMcbpGF",
        "colab_type": "text"
      },
      "source": [
        "# **Tako's Wiki**\n",
        "----\n",
        "----"
      ]
    },
    {
      "cell_type": "markdown",
      "metadata": {
        "id": "mLDieXq4bsBS",
        "colab_type": "text"
      },
      "source": [
        "Eventually this can be ported over and displayed in github, to share with others more easily.  This is done with the \"display rendered blob\" on github.\n",
        "\n",
        "Make links to other colab pages\n",
        "  - [useful things page](https://colab.research.google.com/drive/1XHmVOtGalp-w9TL3rdggKzqvcgwxZV2G#scrollTo=lScpFFjT88Zn)\n",
        "  - Todo\n",
        "      - read\n",
        "         - [READ FIRST](https://www.countbayesie.com/all-posts) - simplified stats, bayes, logistic regression, etc \n",
        "         - [Overview of Colaboratory Features](https://colab.research.google.com/notebooks/basic_features_overview.ipynb#scrollTo=qM4myQGfQboQ)\n",
        "         - [Markdown guide](https://colab.research.google.com/notebooks/markdown_guide.ipynb)\n",
        "         - [Blockchain article](https://www.ey.com/Publication/vwLUAssets/ey-blockchain-and-the-supply-chain-three/$FILE/ey-blockchain-and-the-supply-chain-three.pdf)\n",
        "determine file structure\n",
        "  - months\n",
        "  - projects\n",
        "  - subjects\n",
        "    - ML\n",
        "      - SVM\n",
        "      - Bayesian Analysis\n",
        "      - [NLP](https://colab.research.google.com/drive/1SUeKnr9p5bkTR73SqWrhB-pBz-8lQ2P_#scrollTo=skGjXVsB8_O5)\n",
        "    - AWS\n",
        "    - Blockchain\n",
        "    - [Cyber Security](https://colab.research.google.com/drive/1Xpxly3mLhFkks5saib_O_-lSNl0ehqAo#scrollTo=MDZG-MgIOD-h)\n",
        "    - NLP\n",
        "    - [Unity](https://colab.research.google.com/drive/10vsirA3vaUwqthXFEeJgcqwt5LU3PTxM#scrollTo=h89iCcbP4cuu)\n",
        "\n",
        "This main page is just a description of these things, like http://astr01.ifa.hawaii.edu/ay301\n",
        "\n",
        "Things to note\n",
        "  - bash configuration\n",
        "  - [git reference](https://colab.research.google.com/drive/14FKN0o6BQVgPE6PgK3uI35cAWSqI6Edy#scrollTo=LggXjzlpGeEk)\n",
        "\n",
        "Look into certs: A+, Net+, MCSA Windows Server, VMWare VCA datacenter virtualization, VCA cloud, VCA workforce mobility, CCNA, SSBB, ACMT, OSCP"
      ]
    },
    {
      "cell_type": "markdown",
      "metadata": {
        "id": "TWtyFPq-dKuf",
        "colab_type": "text"
      },
      "source": [
        "Started on machine learing\n",
        "Maybe list all the udemy and kaimi stuff Ive worked through\n",
        "\n",
        "link those to my github repos\n",
        "maybe make a colab page for each"
      ]
    },
    {
      "cell_type": "code",
      "metadata": {
        "id": "FmCXEILFbl02",
        "colab_type": "code",
        "colab": {}
      },
      "source": [
        ""
      ],
      "execution_count": 0,
      "outputs": []
    },
    {
      "cell_type": "markdown",
      "metadata": {
        "id": "VHT742CoECgh",
        "colab_type": "text"
      },
      "source": [
        "----\n",
        "# Work Progress\n",
        "\n",
        "Here is a link to my [udemy github repos.](https://github.com/cmutnik/Udemy_work)\n",
        "\n",
        "Completed Udemy Classes:\n",
        "- Machine Learning\n",
        "    - [Prereq: Linear Regression](https://github.com/cmutnik/Udemy_work/tree/master/AI_ML_DeepLearning/Deep_Learning_Prerequisites_Linear_regression_in_Python)\n",
        "    - [Prereq: Logistic Regression](https://github.com/cmutnik/Udemy_work/tree/master/AI_ML_DeepLearning/Deep_Learning_Prerequisites_Logistic_Regression)\n",
        "    - Prereq: Numpy, Matplotlib, Sklearn\n",
        "- [Git Refresher](https://colab.research.google.com/drive/14FKN0o6BQVgPE6PgK3uI35cAWSqI6Edy#scrollTo=LggXjzlpGeEk)\n",
        "\n",
        "Last locations on open projects (udemy classes):\n",
        "- [Cyber](https://bah.udemy.com/course/securityplus/learn/lecture/12836376#overview)\n",
        "- Unity: [Introduction_To_Unity_For_Absolute_Beginners](https://bah.udemy.com/course/learn-unity-game-development-for-absolute-beginners-2018/learn/lecture/8840434#overview)"
      ]
    },
    {
      "cell_type": "code",
      "metadata": {
        "id": "AUKx_vjOIhef",
        "colab_type": "code",
        "colab": {}
      },
      "source": [
        ""
      ],
      "execution_count": 0,
      "outputs": []
    },
    {
      "cell_type": "markdown",
      "metadata": {
        "id": "djc2lifNIiP4",
        "colab_type": "text"
      },
      "source": [
        ""
      ]
    }
  ]
}